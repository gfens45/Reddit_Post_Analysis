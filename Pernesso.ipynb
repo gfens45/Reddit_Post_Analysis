{
 "cells": [
  {
   "cell_type": "code",
   "execution_count": 1,
   "metadata": {
    "collapsed": true
   },
   "outputs": [],
   "source": [
    "import numpy as np\n",
    "import pandas as pd\n",
    "import matplotlib.pyplot as plt\n",
    "import seaborn as sns\n",
    "%matplotlib inline\n",
    "\n",
    "from sklearn.feature_extraction.text import CountVectorizer, \\\n",
    "HashingVectorizer, TfidfVectorizer\n",
    "from sklearn.datasets import fetch_20newsgroups\n",
    "from sklearn.decomposition import TruncatedSVD\n",
    "from sklearn.ensemble import RandomForestClassifier, RandomForestRegressor\n",
    "from sklearn.linear_model import LogisticRegression, LinearRegression\n",
    "from sklearn.metrics import confusion_matrix, classification_report\n",
    "from sklearn.model_selection import train_test_split, GridSearchCV\n",
    "from sklearn.pipeline import make_union, make_pipeline\n",
    "from sklearn.svm import SVC, SVR\n",
    "from sklearn import svm\n",
    "\n",
    "import string"
   ]
  },
  {
   "cell_type": "markdown",
   "metadata": {},
   "source": [
    "#  Let set option to 300 each "
   ]
  },
  {
   "cell_type": "code",
   "execution_count": 2,
   "metadata": {},
   "outputs": [
    {
     "name": "stdout",
     "output_type": "stream",
     "text": [
      "height has been deprecated.\n",
      "\n"
     ]
    }
   ],
   "source": [
    "pd.set_option('display.height', 500)\n",
    "pd.set_option('display.max_rows', 500)\n",
    "pd.set_option('display.max_columns', 500)\n",
    "pd.set_option('display.width', 1000)"
   ]
  },
  {
   "cell_type": "markdown",
   "metadata": {},
   "source": [
    "# Load the Data"
   ]
  },
  {
   "cell_type": "code",
   "execution_count": 3,
   "metadata": {
    "collapsed": true
   },
   "outputs": [],
   "source": [
    "data = pd.read_csv('reddit_posts.csv')"
   ]
  },
  {
   "cell_type": "code",
   "execution_count": 4,
   "metadata": {},
   "outputs": [
    {
     "data": {
      "text/html": [
       "<div>\n",
       "<style>\n",
       "    .dataframe thead tr:only-child th {\n",
       "        text-align: right;\n",
       "    }\n",
       "\n",
       "    .dataframe thead th {\n",
       "        text-align: left;\n",
       "    }\n",
       "\n",
       "    .dataframe tbody tr th {\n",
       "        vertical-align: top;\n",
       "    }\n",
       "</style>\n",
       "<table border=\"1\" class=\"dataframe\">\n",
       "  <thead>\n",
       "    <tr style=\"text-align: right;\">\n",
       "      <th></th>\n",
       "      <th>adserver_click_url</th>\n",
       "      <th>adserver_imp_pixel</th>\n",
       "      <th>archived</th>\n",
       "      <th>author</th>\n",
       "      <th>author_flair_css_class</th>\n",
       "      <th>author_flair_text</th>\n",
       "      <th>contest_mode</th>\n",
       "      <th>created_utc</th>\n",
       "      <th>disable_comments</th>\n",
       "      <th>distinguished</th>\n",
       "      <th>domain</th>\n",
       "      <th>downs</th>\n",
       "      <th>edited</th>\n",
       "      <th>gilded</th>\n",
       "      <th>hide_score</th>\n",
       "      <th>href_url</th>\n",
       "      <th>id</th>\n",
       "      <th>imp_pixel</th>\n",
       "      <th>is_self</th>\n",
       "      <th>link_flair_css_class</th>\n",
       "      <th>link_flair_text</th>\n",
       "      <th>locked</th>\n",
       "      <th>media</th>\n",
       "      <th>media_embed</th>\n",
       "      <th>mobile_ad_url</th>\n",
       "      <th>name</th>\n",
       "      <th>num_comments</th>\n",
       "      <th>original_link</th>\n",
       "      <th>over_18</th>\n",
       "      <th>permalink</th>\n",
       "      <th>post_hint</th>\n",
       "      <th>preview</th>\n",
       "      <th>promoted</th>\n",
       "      <th>promoted_by</th>\n",
       "      <th>promoted_display_name</th>\n",
       "      <th>promoted_url</th>\n",
       "      <th>quarantine</th>\n",
       "      <th>retrieved_on</th>\n",
       "      <th>saved</th>\n",
       "      <th>score</th>\n",
       "      <th>secure_media</th>\n",
       "      <th>secure_media_embed</th>\n",
       "      <th>selftext</th>\n",
       "      <th>spoiler</th>\n",
       "      <th>stickied</th>\n",
       "      <th>subreddit</th>\n",
       "      <th>subreddit_id</th>\n",
       "      <th>third_party_tracking</th>\n",
       "      <th>third_party_tracking_2</th>\n",
       "      <th>thumbnail</th>\n",
       "      <th>title</th>\n",
       "      <th>ups</th>\n",
       "      <th>url</th>\n",
       "    </tr>\n",
       "  </thead>\n",
       "  <tbody>\n",
       "    <tr>\n",
       "      <th>0</th>\n",
       "      <td>NaN</td>\n",
       "      <td>NaN</td>\n",
       "      <td>False</td>\n",
       "      <td>johnnyawesome0</td>\n",
       "      <td>NaN</td>\n",
       "      <td>NaN</td>\n",
       "      <td>False</td>\n",
       "      <td>1480697304</td>\n",
       "      <td>NaN</td>\n",
       "      <td>NaN</td>\n",
       "      <td>self.techsupport</td>\n",
       "      <td>0.0</td>\n",
       "      <td>False</td>\n",
       "      <td>0.0</td>\n",
       "      <td>False</td>\n",
       "      <td>NaN</td>\n",
       "      <td>5g49s2</td>\n",
       "      <td>NaN</td>\n",
       "      <td>True</td>\n",
       "      <td>NaN</td>\n",
       "      <td>NaN</td>\n",
       "      <td>False</td>\n",
       "      <td>NaN</td>\n",
       "      <td>{}</td>\n",
       "      <td>NaN</td>\n",
       "      <td>t3_5g49s2</td>\n",
       "      <td>1.0</td>\n",
       "      <td>NaN</td>\n",
       "      <td>False</td>\n",
       "      <td>/r/techsupport/comments/5g49s2/help_with_audio...</td>\n",
       "      <td>NaN</td>\n",
       "      <td>NaN</td>\n",
       "      <td>NaN</td>\n",
       "      <td>NaN</td>\n",
       "      <td>NaN</td>\n",
       "      <td>NaN</td>\n",
       "      <td>False</td>\n",
       "      <td>1.484297e+09</td>\n",
       "      <td>False</td>\n",
       "      <td>1.0</td>\n",
       "      <td>NaN</td>\n",
       "      <td>{}</td>\n",
       "      <td>I have a Sony surround sound system for a blu-...</td>\n",
       "      <td>False</td>\n",
       "      <td>False</td>\n",
       "      <td>techsupport</td>\n",
       "      <td>t5_2qioo</td>\n",
       "      <td>NaN</td>\n",
       "      <td>NaN</td>\n",
       "      <td>self</td>\n",
       "      <td>Help with audio set-up</td>\n",
       "      <td>1.0</td>\n",
       "      <td>https://www.reddit.com/r/techsupport/comments/...</td>\n",
       "    </tr>\n",
       "    <tr>\n",
       "      <th>1</th>\n",
       "      <td>NaN</td>\n",
       "      <td>NaN</td>\n",
       "      <td>False</td>\n",
       "      <td>Silverfin113</td>\n",
       "      <td>NaN</td>\n",
       "      <td>NaN</td>\n",
       "      <td>False</td>\n",
       "      <td>1480697424</td>\n",
       "      <td>NaN</td>\n",
       "      <td>NaN</td>\n",
       "      <td>self.learnprogramming</td>\n",
       "      <td>0.0</td>\n",
       "      <td>False</td>\n",
       "      <td>0.0</td>\n",
       "      <td>False</td>\n",
       "      <td>NaN</td>\n",
       "      <td>5g4a5p</td>\n",
       "      <td>NaN</td>\n",
       "      <td>True</td>\n",
       "      <td>NaN</td>\n",
       "      <td>NaN</td>\n",
       "      <td>False</td>\n",
       "      <td>NaN</td>\n",
       "      <td>{}</td>\n",
       "      <td>NaN</td>\n",
       "      <td>t3_5g4a5p</td>\n",
       "      <td>8.0</td>\n",
       "      <td>NaN</td>\n",
       "      <td>False</td>\n",
       "      <td>/r/learnprogramming/comments/5g4a5p/optimizing...</td>\n",
       "      <td>NaN</td>\n",
       "      <td>NaN</td>\n",
       "      <td>NaN</td>\n",
       "      <td>NaN</td>\n",
       "      <td>NaN</td>\n",
       "      <td>NaN</td>\n",
       "      <td>False</td>\n",
       "      <td>1.484297e+09</td>\n",
       "      <td>False</td>\n",
       "      <td>23.0</td>\n",
       "      <td>NaN</td>\n",
       "      <td>{}</td>\n",
       "      <td>I've written what seems to be a prohibitively ...</td>\n",
       "      <td>False</td>\n",
       "      <td>False</td>\n",
       "      <td>learnprogramming</td>\n",
       "      <td>t5_2r7yd</td>\n",
       "      <td>NaN</td>\n",
       "      <td>NaN</td>\n",
       "      <td>self</td>\n",
       "      <td>Optimizing code for speed</td>\n",
       "      <td>23.0</td>\n",
       "      <td>https://www.reddit.com/r/learnprogramming/comm...</td>\n",
       "    </tr>\n",
       "    <tr>\n",
       "      <th>2</th>\n",
       "      <td>NaN</td>\n",
       "      <td>NaN</td>\n",
       "      <td>False</td>\n",
       "      <td>bookbooksbooks</td>\n",
       "      <td>NaN</td>\n",
       "      <td>NaN</td>\n",
       "      <td>False</td>\n",
       "      <td>1480697613</td>\n",
       "      <td>NaN</td>\n",
       "      <td>NaN</td>\n",
       "      <td>self.gamedev</td>\n",
       "      <td>0.0</td>\n",
       "      <td>False</td>\n",
       "      <td>0.0</td>\n",
       "      <td>False</td>\n",
       "      <td>NaN</td>\n",
       "      <td>5g4att</td>\n",
       "      <td>NaN</td>\n",
       "      <td>True</td>\n",
       "      <td>discussion cat-talk</td>\n",
       "      <td>Discussion</td>\n",
       "      <td>False</td>\n",
       "      <td>NaN</td>\n",
       "      <td>{}</td>\n",
       "      <td>NaN</td>\n",
       "      <td>t3_5g4att</td>\n",
       "      <td>5.0</td>\n",
       "      <td>NaN</td>\n",
       "      <td>False</td>\n",
       "      <td>/r/gamedev/comments/5g4att/seeking_tales_of_de...</td>\n",
       "      <td>NaN</td>\n",
       "      <td>NaN</td>\n",
       "      <td>NaN</td>\n",
       "      <td>NaN</td>\n",
       "      <td>NaN</td>\n",
       "      <td>NaN</td>\n",
       "      <td>False</td>\n",
       "      <td>1.484297e+09</td>\n",
       "      <td>False</td>\n",
       "      <td>12.0</td>\n",
       "      <td>NaN</td>\n",
       "      <td>{}</td>\n",
       "      <td>I'm writing an article called \"Video Games Tha...</td>\n",
       "      <td>False</td>\n",
       "      <td>False</td>\n",
       "      <td>gamedev</td>\n",
       "      <td>t5_2qi0a</td>\n",
       "      <td>NaN</td>\n",
       "      <td>NaN</td>\n",
       "      <td>self</td>\n",
       "      <td>Seeking Tales of Development Woe (and Triumph)...</td>\n",
       "      <td>12.0</td>\n",
       "      <td>https://www.reddit.com/r/gamedev/comments/5g4a...</td>\n",
       "    </tr>\n",
       "    <tr>\n",
       "      <th>3</th>\n",
       "      <td>NaN</td>\n",
       "      <td>NaN</td>\n",
       "      <td>False</td>\n",
       "      <td>[deleted]</td>\n",
       "      <td>NaN</td>\n",
       "      <td>NaN</td>\n",
       "      <td>False</td>\n",
       "      <td>1480697634</td>\n",
       "      <td>NaN</td>\n",
       "      <td>NaN</td>\n",
       "      <td>self.learnprogramming</td>\n",
       "      <td>0.0</td>\n",
       "      <td>1480698462</td>\n",
       "      <td>0.0</td>\n",
       "      <td>False</td>\n",
       "      <td>NaN</td>\n",
       "      <td>5g4awr</td>\n",
       "      <td>NaN</td>\n",
       "      <td>True</td>\n",
       "      <td>solved</td>\n",
       "      <td>Solved</td>\n",
       "      <td>False</td>\n",
       "      <td>NaN</td>\n",
       "      <td>{}</td>\n",
       "      <td>NaN</td>\n",
       "      <td>t3_5g4awr</td>\n",
       "      <td>9.0</td>\n",
       "      <td>NaN</td>\n",
       "      <td>False</td>\n",
       "      <td>/r/learnprogramming/comments/5g4awr/java_findi...</td>\n",
       "      <td>NaN</td>\n",
       "      <td>NaN</td>\n",
       "      <td>NaN</td>\n",
       "      <td>NaN</td>\n",
       "      <td>NaN</td>\n",
       "      <td>NaN</td>\n",
       "      <td>False</td>\n",
       "      <td>1.484297e+09</td>\n",
       "      <td>False</td>\n",
       "      <td>0.0</td>\n",
       "      <td>NaN</td>\n",
       "      <td>{}</td>\n",
       "      <td>[deleted]</td>\n",
       "      <td>False</td>\n",
       "      <td>False</td>\n",
       "      <td>learnprogramming</td>\n",
       "      <td>t5_2r7yd</td>\n",
       "      <td>NaN</td>\n",
       "      <td>NaN</td>\n",
       "      <td>default</td>\n",
       "      <td>[Java] Finding smallest value in an array</td>\n",
       "      <td>0.0</td>\n",
       "      <td>https://www.reddit.com/r/learnprogramming/comm...</td>\n",
       "    </tr>\n",
       "    <tr>\n",
       "      <th>4</th>\n",
       "      <td>NaN</td>\n",
       "      <td>NaN</td>\n",
       "      <td>False</td>\n",
       "      <td>caffeine_potent</td>\n",
       "      <td>NaN</td>\n",
       "      <td>NaN</td>\n",
       "      <td>False</td>\n",
       "      <td>1480697748</td>\n",
       "      <td>NaN</td>\n",
       "      <td>NaN</td>\n",
       "      <td>self.learnpython</td>\n",
       "      <td>0.0</td>\n",
       "      <td>1480709138</td>\n",
       "      <td>0.0</td>\n",
       "      <td>False</td>\n",
       "      <td>NaN</td>\n",
       "      <td>5g4bcr</td>\n",
       "      <td>NaN</td>\n",
       "      <td>True</td>\n",
       "      <td>NaN</td>\n",
       "      <td>NaN</td>\n",
       "      <td>False</td>\n",
       "      <td>NaN</td>\n",
       "      <td>{}</td>\n",
       "      <td>NaN</td>\n",
       "      <td>t3_5g4bcr</td>\n",
       "      <td>12.0</td>\n",
       "      <td>NaN</td>\n",
       "      <td>False</td>\n",
       "      <td>/r/learnpython/comments/5g4bcr/currying_functi...</td>\n",
       "      <td>NaN</td>\n",
       "      <td>NaN</td>\n",
       "      <td>NaN</td>\n",
       "      <td>NaN</td>\n",
       "      <td>NaN</td>\n",
       "      <td>NaN</td>\n",
       "      <td>False</td>\n",
       "      <td>1.484297e+09</td>\n",
       "      <td>False</td>\n",
       "      <td>6.0</td>\n",
       "      <td>NaN</td>\n",
       "      <td>{}</td>\n",
       "      <td>I have the following representation of argumen...</td>\n",
       "      <td>False</td>\n",
       "      <td>False</td>\n",
       "      <td>learnpython</td>\n",
       "      <td>t5_2r8ot</td>\n",
       "      <td>NaN</td>\n",
       "      <td>NaN</td>\n",
       "      <td>self</td>\n",
       "      <td>currying functions using functools</td>\n",
       "      <td>6.0</td>\n",
       "      <td>https://www.reddit.com/r/learnpython/comments/...</td>\n",
       "    </tr>\n",
       "  </tbody>\n",
       "</table>\n",
       "</div>"
      ],
      "text/plain": [
       "   adserver_click_url  adserver_imp_pixel  archived           author author_flair_css_class author_flair_text  contest_mode  created_utc  disable_comments distinguished                 domain  downs      edited  gilded  hide_score  href_url      id  imp_pixel  is_self link_flair_css_class link_flair_text  locked media media_embed  mobile_ad_url       name  num_comments  original_link  over_18                                          permalink post_hint preview  promoted  promoted_by  promoted_display_name  promoted_url  quarantine  retrieved_on  saved  score secure_media secure_media_embed                                           selftext  spoiler  stickied         subreddit subreddit_id  third_party_tracking  third_party_tracking_2 thumbnail                                              title   ups                                                url\n",
       "0                 NaN                 NaN     False   johnnyawesome0                    NaN               NaN         False   1480697304               NaN           NaN       self.techsupport    0.0       False     0.0       False       NaN  5g49s2        NaN     True                  NaN             NaN   False   NaN          {}            NaN  t3_5g49s2           1.0            NaN    False  /r/techsupport/comments/5g49s2/help_with_audio...       NaN     NaN       NaN          NaN                    NaN           NaN       False  1.484297e+09  False    1.0          NaN                 {}  I have a Sony surround sound system for a blu-...    False     False       techsupport     t5_2qioo                   NaN                     NaN      self                             Help with audio set-up   1.0  https://www.reddit.com/r/techsupport/comments/...\n",
       "1                 NaN                 NaN     False     Silverfin113                    NaN               NaN         False   1480697424               NaN           NaN  self.learnprogramming    0.0       False     0.0       False       NaN  5g4a5p        NaN     True                  NaN             NaN   False   NaN          {}            NaN  t3_5g4a5p           8.0            NaN    False  /r/learnprogramming/comments/5g4a5p/optimizing...       NaN     NaN       NaN          NaN                    NaN           NaN       False  1.484297e+09  False   23.0          NaN                 {}  I've written what seems to be a prohibitively ...    False     False  learnprogramming     t5_2r7yd                   NaN                     NaN      self                          Optimizing code for speed  23.0  https://www.reddit.com/r/learnprogramming/comm...\n",
       "2                 NaN                 NaN     False   bookbooksbooks                    NaN               NaN         False   1480697613               NaN           NaN           self.gamedev    0.0       False     0.0       False       NaN  5g4att        NaN     True  discussion cat-talk      Discussion   False   NaN          {}            NaN  t3_5g4att           5.0            NaN    False  /r/gamedev/comments/5g4att/seeking_tales_of_de...       NaN     NaN       NaN          NaN                    NaN           NaN       False  1.484297e+09  False   12.0          NaN                 {}  I'm writing an article called \"Video Games Tha...    False     False           gamedev     t5_2qi0a                   NaN                     NaN      self  Seeking Tales of Development Woe (and Triumph)...  12.0  https://www.reddit.com/r/gamedev/comments/5g4a...\n",
       "3                 NaN                 NaN     False        [deleted]                    NaN               NaN         False   1480697634               NaN           NaN  self.learnprogramming    0.0  1480698462     0.0       False       NaN  5g4awr        NaN     True               solved          Solved   False   NaN          {}            NaN  t3_5g4awr           9.0            NaN    False  /r/learnprogramming/comments/5g4awr/java_findi...       NaN     NaN       NaN          NaN                    NaN           NaN       False  1.484297e+09  False    0.0          NaN                 {}                                          [deleted]    False     False  learnprogramming     t5_2r7yd                   NaN                     NaN   default          [Java] Finding smallest value in an array   0.0  https://www.reddit.com/r/learnprogramming/comm...\n",
       "4                 NaN                 NaN     False  caffeine_potent                    NaN               NaN         False   1480697748               NaN           NaN       self.learnpython    0.0  1480709138     0.0       False       NaN  5g4bcr        NaN     True                  NaN             NaN   False   NaN          {}            NaN  t3_5g4bcr          12.0            NaN    False  /r/learnpython/comments/5g4bcr/currying_functi...       NaN     NaN       NaN          NaN                    NaN           NaN       False  1.484297e+09  False    6.0          NaN                 {}  I have the following representation of argumen...    False     False       learnpython     t5_2r8ot                   NaN                     NaN      self                 currying functions using functools   6.0  https://www.reddit.com/r/learnpython/comments/..."
      ]
     },
     "execution_count": 4,
     "metadata": {},
     "output_type": "execute_result"
    }
   ],
   "source": [
    "data.head()"
   ]
  },
  {
   "cell_type": "code",
   "execution_count": 5,
   "metadata": {},
   "outputs": [
    {
     "name": "stdout",
     "output_type": "stream",
     "text": [
      "<class 'pandas.core.frame.DataFrame'>\n",
      "RangeIndex: 26688 entries, 0 to 26687\n",
      "Data columns (total 53 columns):\n",
      "adserver_click_url        0 non-null float64\n",
      "adserver_imp_pixel        0 non-null float64\n",
      "archived                  26688 non-null bool\n",
      "author                    26688 non-null object\n",
      "author_flair_css_class    435 non-null object\n",
      "author_flair_text         351 non-null object\n",
      "contest_mode              26688 non-null bool\n",
      "created_utc               26688 non-null int64\n",
      "disable_comments          0 non-null float64\n",
      "distinguished             85 non-null object\n",
      "domain                    26688 non-null object\n",
      "downs                     26688 non-null float64\n",
      "edited                    26688 non-null object\n",
      "gilded                    26688 non-null float64\n",
      "hide_score                26688 non-null bool\n",
      "href_url                  0 non-null float64\n",
      "id                        26688 non-null object\n",
      "imp_pixel                 0 non-null float64\n",
      "is_self                   26688 non-null bool\n",
      "link_flair_css_class      4292 non-null object\n",
      "link_flair_text           4610 non-null object\n",
      "locked                    26688 non-null bool\n",
      "media                     268 non-null object\n",
      "media_embed               26688 non-null object\n",
      "mobile_ad_url             0 non-null float64\n",
      "name                      26688 non-null object\n",
      "num_comments              26688 non-null float64\n",
      "original_link             0 non-null float64\n",
      "over_18                   26688 non-null bool\n",
      "permalink                 26688 non-null object\n",
      "post_hint                 3513 non-null object\n",
      "preview                   3513 non-null object\n",
      "promoted                  0 non-null float64\n",
      "promoted_by               0 non-null float64\n",
      "promoted_display_name     0 non-null float64\n",
      "promoted_url              0 non-null float64\n",
      "quarantine                26688 non-null bool\n",
      "retrieved_on              26688 non-null float64\n",
      "saved                     26688 non-null bool\n",
      "score                     26688 non-null float64\n",
      "secure_media              268 non-null object\n",
      "secure_media_embed        26688 non-null object\n",
      "selftext                  26688 non-null object\n",
      "spoiler                   26688 non-null bool\n",
      "stickied                  26688 non-null bool\n",
      "subreddit                 26688 non-null object\n",
      "subreddit_id              26688 non-null object\n",
      "third_party_tracking      0 non-null float64\n",
      "third_party_tracking_2    0 non-null float64\n",
      "thumbnail                 26688 non-null object\n",
      "title                     26688 non-null object\n",
      "ups                       26688 non-null float64\n",
      "url                       26688 non-null object\n",
      "dtypes: bool(10), float64(19), int64(1), object(23)\n",
      "memory usage: 9.0+ MB\n"
     ]
    }
   ],
   "source": [
    "data.info()"
   ]
  },
  {
   "cell_type": "code",
   "execution_count": 6,
   "metadata": {},
   "outputs": [
    {
     "data": {
      "text/plain": [
       "Index(['adserver_click_url', 'adserver_imp_pixel', 'archived', 'author', 'author_flair_css_class', 'author_flair_text', 'contest_mode', 'created_utc', 'disable_comments', 'distinguished', 'domain', 'downs', 'edited', 'gilded', 'hide_score', 'href_url', 'id', 'imp_pixel', 'is_self', 'link_flair_css_class', 'link_flair_text', 'locked', 'media', 'media_embed', 'mobile_ad_url', 'name', 'num_comments', 'original_link', 'over_18', 'permalink', 'post_hint', 'preview', 'promoted', 'promoted_by', 'promoted_display_name', 'promoted_url', 'quarantine', 'retrieved_on', 'saved', 'score', 'secure_media', 'secure_media_embed', 'selftext', 'spoiler', 'stickied', 'subreddit', 'subreddit_id', 'third_party_tracking', 'third_party_tracking_2', 'thumbnail', 'title', 'ups', 'url'], dtype='object')"
      ]
     },
     "execution_count": 6,
     "metadata": {},
     "output_type": "execute_result"
    }
   ],
   "source": [
    "data.columns"
   ]
  },
  {
   "cell_type": "code",
   "execution_count": 7,
   "metadata": {
    "collapsed": true
   },
   "outputs": [],
   "source": [
    "# data.subreddit.value_counts()[0:10].plot(kind='bar')\n",
    "# plt.title('Top 10 SubReddit Posts', fontsize=25)"
   ]
  },
  {
   "cell_type": "code",
   "execution_count": 8,
   "metadata": {
    "collapsed": true
   },
   "outputs": [],
   "source": [
    "#Find the missing values in the dataset\n",
    "all_null_columns = data.columns[data.isnull().sum()==len(data)]"
   ]
  },
  {
   "cell_type": "code",
   "execution_count": 9,
   "metadata": {},
   "outputs": [
    {
     "data": {
      "text/plain": [
       "569801"
      ]
     },
     "execution_count": 9,
     "metadata": {},
     "output_type": "execute_result"
    }
   ],
   "source": [
    "data.isnull().sum().sum()"
   ]
  },
  {
   "cell_type": "code",
   "execution_count": 10,
   "metadata": {},
   "outputs": [
    {
     "data": {
      "text/plain": [
       "Index(['adserver_click_url', 'adserver_imp_pixel', 'disable_comments', 'href_url', 'imp_pixel', 'mobile_ad_url', 'original_link', 'promoted', 'promoted_by', 'promoted_display_name', 'promoted_url', 'third_party_tracking', 'third_party_tracking_2'], dtype='object')"
      ]
     },
     "execution_count": 10,
     "metadata": {},
     "output_type": "execute_result"
    }
   ],
   "source": [
    "#Find the missing values in the dataset\n",
    "all_null_columns = data.columns[data.isnull().sum()==len(data)]\n",
    "all_null_columns"
   ]
  },
  {
   "cell_type": "code",
   "execution_count": 11,
   "metadata": {
    "collapsed": true
   },
   "outputs": [],
   "source": [
    "#Dropping the Null Columns\n",
    "data.drop(all_null_columns,axis=1, inplace=True)"
   ]
  },
  {
   "cell_type": "code",
   "execution_count": 12,
   "metadata": {},
   "outputs": [
    {
     "data": {
      "text/html": [
       "<div>\n",
       "<style>\n",
       "    .dataframe thead tr:only-child th {\n",
       "        text-align: right;\n",
       "    }\n",
       "\n",
       "    .dataframe thead th {\n",
       "        text-align: left;\n",
       "    }\n",
       "\n",
       "    .dataframe tbody tr th {\n",
       "        vertical-align: top;\n",
       "    }\n",
       "</style>\n",
       "<table border=\"1\" class=\"dataframe\">\n",
       "  <thead>\n",
       "    <tr style=\"text-align: right;\">\n",
       "      <th></th>\n",
       "      <th>archived</th>\n",
       "      <th>author</th>\n",
       "      <th>author_flair_css_class</th>\n",
       "      <th>author_flair_text</th>\n",
       "      <th>contest_mode</th>\n",
       "      <th>created_utc</th>\n",
       "      <th>distinguished</th>\n",
       "      <th>domain</th>\n",
       "      <th>downs</th>\n",
       "      <th>edited</th>\n",
       "      <th>gilded</th>\n",
       "      <th>hide_score</th>\n",
       "      <th>id</th>\n",
       "      <th>is_self</th>\n",
       "      <th>link_flair_css_class</th>\n",
       "      <th>link_flair_text</th>\n",
       "      <th>locked</th>\n",
       "      <th>media</th>\n",
       "      <th>media_embed</th>\n",
       "      <th>name</th>\n",
       "      <th>num_comments</th>\n",
       "      <th>over_18</th>\n",
       "      <th>permalink</th>\n",
       "      <th>post_hint</th>\n",
       "      <th>preview</th>\n",
       "      <th>quarantine</th>\n",
       "      <th>retrieved_on</th>\n",
       "      <th>saved</th>\n",
       "      <th>score</th>\n",
       "      <th>secure_media</th>\n",
       "      <th>secure_media_embed</th>\n",
       "      <th>selftext</th>\n",
       "      <th>spoiler</th>\n",
       "      <th>stickied</th>\n",
       "      <th>subreddit</th>\n",
       "      <th>subreddit_id</th>\n",
       "      <th>thumbnail</th>\n",
       "      <th>title</th>\n",
       "      <th>ups</th>\n",
       "      <th>url</th>\n",
       "    </tr>\n",
       "  </thead>\n",
       "  <tbody>\n",
       "    <tr>\n",
       "      <th>0</th>\n",
       "      <td>False</td>\n",
       "      <td>johnnyawesome0</td>\n",
       "      <td>NaN</td>\n",
       "      <td>NaN</td>\n",
       "      <td>False</td>\n",
       "      <td>1480697304</td>\n",
       "      <td>NaN</td>\n",
       "      <td>self.techsupport</td>\n",
       "      <td>0.0</td>\n",
       "      <td>False</td>\n",
       "      <td>0.0</td>\n",
       "      <td>False</td>\n",
       "      <td>5g49s2</td>\n",
       "      <td>True</td>\n",
       "      <td>NaN</td>\n",
       "      <td>NaN</td>\n",
       "      <td>False</td>\n",
       "      <td>NaN</td>\n",
       "      <td>{}</td>\n",
       "      <td>t3_5g49s2</td>\n",
       "      <td>1.0</td>\n",
       "      <td>False</td>\n",
       "      <td>/r/techsupport/comments/5g49s2/help_with_audio...</td>\n",
       "      <td>NaN</td>\n",
       "      <td>NaN</td>\n",
       "      <td>False</td>\n",
       "      <td>1.484297e+09</td>\n",
       "      <td>False</td>\n",
       "      <td>1.0</td>\n",
       "      <td>NaN</td>\n",
       "      <td>{}</td>\n",
       "      <td>I have a Sony surround sound system for a blu-...</td>\n",
       "      <td>False</td>\n",
       "      <td>False</td>\n",
       "      <td>techsupport</td>\n",
       "      <td>t5_2qioo</td>\n",
       "      <td>self</td>\n",
       "      <td>Help with audio set-up</td>\n",
       "      <td>1.0</td>\n",
       "      <td>https://www.reddit.com/r/techsupport/comments/...</td>\n",
       "    </tr>\n",
       "    <tr>\n",
       "      <th>1</th>\n",
       "      <td>False</td>\n",
       "      <td>Silverfin113</td>\n",
       "      <td>NaN</td>\n",
       "      <td>NaN</td>\n",
       "      <td>False</td>\n",
       "      <td>1480697424</td>\n",
       "      <td>NaN</td>\n",
       "      <td>self.learnprogramming</td>\n",
       "      <td>0.0</td>\n",
       "      <td>False</td>\n",
       "      <td>0.0</td>\n",
       "      <td>False</td>\n",
       "      <td>5g4a5p</td>\n",
       "      <td>True</td>\n",
       "      <td>NaN</td>\n",
       "      <td>NaN</td>\n",
       "      <td>False</td>\n",
       "      <td>NaN</td>\n",
       "      <td>{}</td>\n",
       "      <td>t3_5g4a5p</td>\n",
       "      <td>8.0</td>\n",
       "      <td>False</td>\n",
       "      <td>/r/learnprogramming/comments/5g4a5p/optimizing...</td>\n",
       "      <td>NaN</td>\n",
       "      <td>NaN</td>\n",
       "      <td>False</td>\n",
       "      <td>1.484297e+09</td>\n",
       "      <td>False</td>\n",
       "      <td>23.0</td>\n",
       "      <td>NaN</td>\n",
       "      <td>{}</td>\n",
       "      <td>I've written what seems to be a prohibitively ...</td>\n",
       "      <td>False</td>\n",
       "      <td>False</td>\n",
       "      <td>learnprogramming</td>\n",
       "      <td>t5_2r7yd</td>\n",
       "      <td>self</td>\n",
       "      <td>Optimizing code for speed</td>\n",
       "      <td>23.0</td>\n",
       "      <td>https://www.reddit.com/r/learnprogramming/comm...</td>\n",
       "    </tr>\n",
       "    <tr>\n",
       "      <th>2</th>\n",
       "      <td>False</td>\n",
       "      <td>bookbooksbooks</td>\n",
       "      <td>NaN</td>\n",
       "      <td>NaN</td>\n",
       "      <td>False</td>\n",
       "      <td>1480697613</td>\n",
       "      <td>NaN</td>\n",
       "      <td>self.gamedev</td>\n",
       "      <td>0.0</td>\n",
       "      <td>False</td>\n",
       "      <td>0.0</td>\n",
       "      <td>False</td>\n",
       "      <td>5g4att</td>\n",
       "      <td>True</td>\n",
       "      <td>discussion cat-talk</td>\n",
       "      <td>Discussion</td>\n",
       "      <td>False</td>\n",
       "      <td>NaN</td>\n",
       "      <td>{}</td>\n",
       "      <td>t3_5g4att</td>\n",
       "      <td>5.0</td>\n",
       "      <td>False</td>\n",
       "      <td>/r/gamedev/comments/5g4att/seeking_tales_of_de...</td>\n",
       "      <td>NaN</td>\n",
       "      <td>NaN</td>\n",
       "      <td>False</td>\n",
       "      <td>1.484297e+09</td>\n",
       "      <td>False</td>\n",
       "      <td>12.0</td>\n",
       "      <td>NaN</td>\n",
       "      <td>{}</td>\n",
       "      <td>I'm writing an article called \"Video Games Tha...</td>\n",
       "      <td>False</td>\n",
       "      <td>False</td>\n",
       "      <td>gamedev</td>\n",
       "      <td>t5_2qi0a</td>\n",
       "      <td>self</td>\n",
       "      <td>Seeking Tales of Development Woe (and Triumph)...</td>\n",
       "      <td>12.0</td>\n",
       "      <td>https://www.reddit.com/r/gamedev/comments/5g4a...</td>\n",
       "    </tr>\n",
       "    <tr>\n",
       "      <th>3</th>\n",
       "      <td>False</td>\n",
       "      <td>[deleted]</td>\n",
       "      <td>NaN</td>\n",
       "      <td>NaN</td>\n",
       "      <td>False</td>\n",
       "      <td>1480697634</td>\n",
       "      <td>NaN</td>\n",
       "      <td>self.learnprogramming</td>\n",
       "      <td>0.0</td>\n",
       "      <td>1480698462</td>\n",
       "      <td>0.0</td>\n",
       "      <td>False</td>\n",
       "      <td>5g4awr</td>\n",
       "      <td>True</td>\n",
       "      <td>solved</td>\n",
       "      <td>Solved</td>\n",
       "      <td>False</td>\n",
       "      <td>NaN</td>\n",
       "      <td>{}</td>\n",
       "      <td>t3_5g4awr</td>\n",
       "      <td>9.0</td>\n",
       "      <td>False</td>\n",
       "      <td>/r/learnprogramming/comments/5g4awr/java_findi...</td>\n",
       "      <td>NaN</td>\n",
       "      <td>NaN</td>\n",
       "      <td>False</td>\n",
       "      <td>1.484297e+09</td>\n",
       "      <td>False</td>\n",
       "      <td>0.0</td>\n",
       "      <td>NaN</td>\n",
       "      <td>{}</td>\n",
       "      <td>[deleted]</td>\n",
       "      <td>False</td>\n",
       "      <td>False</td>\n",
       "      <td>learnprogramming</td>\n",
       "      <td>t5_2r7yd</td>\n",
       "      <td>default</td>\n",
       "      <td>[Java] Finding smallest value in an array</td>\n",
       "      <td>0.0</td>\n",
       "      <td>https://www.reddit.com/r/learnprogramming/comm...</td>\n",
       "    </tr>\n",
       "    <tr>\n",
       "      <th>4</th>\n",
       "      <td>False</td>\n",
       "      <td>caffeine_potent</td>\n",
       "      <td>NaN</td>\n",
       "      <td>NaN</td>\n",
       "      <td>False</td>\n",
       "      <td>1480697748</td>\n",
       "      <td>NaN</td>\n",
       "      <td>self.learnpython</td>\n",
       "      <td>0.0</td>\n",
       "      <td>1480709138</td>\n",
       "      <td>0.0</td>\n",
       "      <td>False</td>\n",
       "      <td>5g4bcr</td>\n",
       "      <td>True</td>\n",
       "      <td>NaN</td>\n",
       "      <td>NaN</td>\n",
       "      <td>False</td>\n",
       "      <td>NaN</td>\n",
       "      <td>{}</td>\n",
       "      <td>t3_5g4bcr</td>\n",
       "      <td>12.0</td>\n",
       "      <td>False</td>\n",
       "      <td>/r/learnpython/comments/5g4bcr/currying_functi...</td>\n",
       "      <td>NaN</td>\n",
       "      <td>NaN</td>\n",
       "      <td>False</td>\n",
       "      <td>1.484297e+09</td>\n",
       "      <td>False</td>\n",
       "      <td>6.0</td>\n",
       "      <td>NaN</td>\n",
       "      <td>{}</td>\n",
       "      <td>I have the following representation of argumen...</td>\n",
       "      <td>False</td>\n",
       "      <td>False</td>\n",
       "      <td>learnpython</td>\n",
       "      <td>t5_2r8ot</td>\n",
       "      <td>self</td>\n",
       "      <td>currying functions using functools</td>\n",
       "      <td>6.0</td>\n",
       "      <td>https://www.reddit.com/r/learnpython/comments/...</td>\n",
       "    </tr>\n",
       "  </tbody>\n",
       "</table>\n",
       "</div>"
      ],
      "text/plain": [
       "   archived           author author_flair_css_class author_flair_text  contest_mode  created_utc distinguished                 domain  downs      edited  gilded  hide_score      id  is_self link_flair_css_class link_flair_text  locked media media_embed       name  num_comments  over_18                                          permalink post_hint preview  quarantine  retrieved_on  saved  score secure_media secure_media_embed                                           selftext  spoiler  stickied         subreddit subreddit_id thumbnail                                              title   ups                                                url\n",
       "0     False   johnnyawesome0                    NaN               NaN         False   1480697304           NaN       self.techsupport    0.0       False     0.0       False  5g49s2     True                  NaN             NaN   False   NaN          {}  t3_5g49s2           1.0    False  /r/techsupport/comments/5g49s2/help_with_audio...       NaN     NaN       False  1.484297e+09  False    1.0          NaN                 {}  I have a Sony surround sound system for a blu-...    False     False       techsupport     t5_2qioo      self                             Help with audio set-up   1.0  https://www.reddit.com/r/techsupport/comments/...\n",
       "1     False     Silverfin113                    NaN               NaN         False   1480697424           NaN  self.learnprogramming    0.0       False     0.0       False  5g4a5p     True                  NaN             NaN   False   NaN          {}  t3_5g4a5p           8.0    False  /r/learnprogramming/comments/5g4a5p/optimizing...       NaN     NaN       False  1.484297e+09  False   23.0          NaN                 {}  I've written what seems to be a prohibitively ...    False     False  learnprogramming     t5_2r7yd      self                          Optimizing code for speed  23.0  https://www.reddit.com/r/learnprogramming/comm...\n",
       "2     False   bookbooksbooks                    NaN               NaN         False   1480697613           NaN           self.gamedev    0.0       False     0.0       False  5g4att     True  discussion cat-talk      Discussion   False   NaN          {}  t3_5g4att           5.0    False  /r/gamedev/comments/5g4att/seeking_tales_of_de...       NaN     NaN       False  1.484297e+09  False   12.0          NaN                 {}  I'm writing an article called \"Video Games Tha...    False     False           gamedev     t5_2qi0a      self  Seeking Tales of Development Woe (and Triumph)...  12.0  https://www.reddit.com/r/gamedev/comments/5g4a...\n",
       "3     False        [deleted]                    NaN               NaN         False   1480697634           NaN  self.learnprogramming    0.0  1480698462     0.0       False  5g4awr     True               solved          Solved   False   NaN          {}  t3_5g4awr           9.0    False  /r/learnprogramming/comments/5g4awr/java_findi...       NaN     NaN       False  1.484297e+09  False    0.0          NaN                 {}                                          [deleted]    False     False  learnprogramming     t5_2r7yd   default          [Java] Finding smallest value in an array   0.0  https://www.reddit.com/r/learnprogramming/comm...\n",
       "4     False  caffeine_potent                    NaN               NaN         False   1480697748           NaN       self.learnpython    0.0  1480709138     0.0       False  5g4bcr     True                  NaN             NaN   False   NaN          {}  t3_5g4bcr          12.0    False  /r/learnpython/comments/5g4bcr/currying_functi...       NaN     NaN       False  1.484297e+09  False    6.0          NaN                 {}  I have the following representation of argumen...    False     False       learnpython     t5_2r8ot      self                 currying functions using functools   6.0  https://www.reddit.com/r/learnpython/comments/..."
      ]
     },
     "execution_count": 12,
     "metadata": {},
     "output_type": "execute_result"
    }
   ],
   "source": [
    "data.head()"
   ]
  },
  {
   "cell_type": "markdown",
   "metadata": {},
   "source": [
    "# Deleted SelfText "
   ]
  },
  {
   "cell_type": "code",
   "execution_count": 13,
   "metadata": {},
   "outputs": [
    {
     "data": {
      "text/html": [
       "<div>\n",
       "<style>\n",
       "    .dataframe thead tr:only-child th {\n",
       "        text-align: right;\n",
       "    }\n",
       "\n",
       "    .dataframe thead th {\n",
       "        text-align: left;\n",
       "    }\n",
       "\n",
       "    .dataframe tbody tr th {\n",
       "        vertical-align: top;\n",
       "    }\n",
       "</style>\n",
       "<table border=\"1\" class=\"dataframe\">\n",
       "  <thead>\n",
       "    <tr style=\"text-align: right;\">\n",
       "      <th></th>\n",
       "      <th>archived</th>\n",
       "      <th>author</th>\n",
       "      <th>author_flair_css_class</th>\n",
       "      <th>author_flair_text</th>\n",
       "      <th>contest_mode</th>\n",
       "      <th>created_utc</th>\n",
       "      <th>distinguished</th>\n",
       "      <th>domain</th>\n",
       "      <th>downs</th>\n",
       "      <th>edited</th>\n",
       "      <th>gilded</th>\n",
       "      <th>hide_score</th>\n",
       "      <th>id</th>\n",
       "      <th>is_self</th>\n",
       "      <th>link_flair_css_class</th>\n",
       "      <th>link_flair_text</th>\n",
       "      <th>locked</th>\n",
       "      <th>media</th>\n",
       "      <th>media_embed</th>\n",
       "      <th>name</th>\n",
       "      <th>num_comments</th>\n",
       "      <th>over_18</th>\n",
       "      <th>permalink</th>\n",
       "      <th>post_hint</th>\n",
       "      <th>preview</th>\n",
       "      <th>quarantine</th>\n",
       "      <th>retrieved_on</th>\n",
       "      <th>saved</th>\n",
       "      <th>score</th>\n",
       "      <th>secure_media</th>\n",
       "      <th>secure_media_embed</th>\n",
       "      <th>selftext</th>\n",
       "      <th>spoiler</th>\n",
       "      <th>stickied</th>\n",
       "      <th>subreddit</th>\n",
       "      <th>subreddit_id</th>\n",
       "      <th>thumbnail</th>\n",
       "      <th>title</th>\n",
       "      <th>ups</th>\n",
       "      <th>url</th>\n",
       "    </tr>\n",
       "  </thead>\n",
       "  <tbody>\n",
       "    <tr>\n",
       "      <th>3</th>\n",
       "      <td>False</td>\n",
       "      <td>[deleted]</td>\n",
       "      <td>NaN</td>\n",
       "      <td>NaN</td>\n",
       "      <td>False</td>\n",
       "      <td>1480697634</td>\n",
       "      <td>NaN</td>\n",
       "      <td>self.learnprogramming</td>\n",
       "      <td>0.0</td>\n",
       "      <td>1480698462</td>\n",
       "      <td>0.0</td>\n",
       "      <td>False</td>\n",
       "      <td>5g4awr</td>\n",
       "      <td>True</td>\n",
       "      <td>solved</td>\n",
       "      <td>Solved</td>\n",
       "      <td>False</td>\n",
       "      <td>NaN</td>\n",
       "      <td>{}</td>\n",
       "      <td>t3_5g4awr</td>\n",
       "      <td>9.0</td>\n",
       "      <td>False</td>\n",
       "      <td>/r/learnprogramming/comments/5g4awr/java_findi...</td>\n",
       "      <td>NaN</td>\n",
       "      <td>NaN</td>\n",
       "      <td>False</td>\n",
       "      <td>1.484297e+09</td>\n",
       "      <td>False</td>\n",
       "      <td>0.0</td>\n",
       "      <td>NaN</td>\n",
       "      <td>{}</td>\n",
       "      <td>[deleted]</td>\n",
       "      <td>False</td>\n",
       "      <td>False</td>\n",
       "      <td>learnprogramming</td>\n",
       "      <td>t5_2r7yd</td>\n",
       "      <td>default</td>\n",
       "      <td>[Java] Finding smallest value in an array</td>\n",
       "      <td>0.0</td>\n",
       "      <td>https://www.reddit.com/r/learnprogramming/comm...</td>\n",
       "    </tr>\n",
       "    <tr>\n",
       "      <th>6</th>\n",
       "      <td>False</td>\n",
       "      <td>[deleted]</td>\n",
       "      <td>NaN</td>\n",
       "      <td>NaN</td>\n",
       "      <td>False</td>\n",
       "      <td>1480697781</td>\n",
       "      <td>NaN</td>\n",
       "      <td>self.Python</td>\n",
       "      <td>0.0</td>\n",
       "      <td>False</td>\n",
       "      <td>0.0</td>\n",
       "      <td>False</td>\n",
       "      <td>5g4bg2</td>\n",
       "      <td>True</td>\n",
       "      <td>NaN</td>\n",
       "      <td>NaN</td>\n",
       "      <td>False</td>\n",
       "      <td>NaN</td>\n",
       "      <td>{}</td>\n",
       "      <td>t3_5g4bg2</td>\n",
       "      <td>5.0</td>\n",
       "      <td>False</td>\n",
       "      <td>/r/Python/comments/5g4bg2/how_can_i_use_differ...</td>\n",
       "      <td>NaN</td>\n",
       "      <td>NaN</td>\n",
       "      <td>False</td>\n",
       "      <td>1.484297e+09</td>\n",
       "      <td>False</td>\n",
       "      <td>0.0</td>\n",
       "      <td>NaN</td>\n",
       "      <td>{}</td>\n",
       "      <td>[deleted]</td>\n",
       "      <td>False</td>\n",
       "      <td>False</td>\n",
       "      <td>Python</td>\n",
       "      <td>t5_2qh0y</td>\n",
       "      <td>default</td>\n",
       "      <td>How can I use (different 'groups' of 8 differe...</td>\n",
       "      <td>0.0</td>\n",
       "      <td>https://www.reddit.com/r/Python/comments/5g4bg...</td>\n",
       "    </tr>\n",
       "    <tr>\n",
       "      <th>10</th>\n",
       "      <td>False</td>\n",
       "      <td>[deleted]</td>\n",
       "      <td>NaN</td>\n",
       "      <td>NaN</td>\n",
       "      <td>False</td>\n",
       "      <td>1480698138</td>\n",
       "      <td>NaN</td>\n",
       "      <td>amazon.com</td>\n",
       "      <td>0.0</td>\n",
       "      <td>False</td>\n",
       "      <td>0.0</td>\n",
       "      <td>False</td>\n",
       "      <td>5g4clp</td>\n",
       "      <td>False</td>\n",
       "      <td>NaN</td>\n",
       "      <td>NaN</td>\n",
       "      <td>False</td>\n",
       "      <td>NaN</td>\n",
       "      <td>{}</td>\n",
       "      <td>t3_5g4clp</td>\n",
       "      <td>0.0</td>\n",
       "      <td>False</td>\n",
       "      <td>/r/technology/comments/5g4clp/do_you_life_adve...</td>\n",
       "      <td>NaN</td>\n",
       "      <td>NaN</td>\n",
       "      <td>False</td>\n",
       "      <td>1.484297e+09</td>\n",
       "      <td>False</td>\n",
       "      <td>1.0</td>\n",
       "      <td>NaN</td>\n",
       "      <td>{}</td>\n",
       "      <td>[deleted]</td>\n",
       "      <td>False</td>\n",
       "      <td>False</td>\n",
       "      <td>technology</td>\n",
       "      <td>t5_2qh16</td>\n",
       "      <td>default</td>\n",
       "      <td>Do you life adventure? Don't forget to take th...</td>\n",
       "      <td>1.0</td>\n",
       "      <td>https://www.amazon.com/Paracord-Survival-Brace...</td>\n",
       "    </tr>\n",
       "    <tr>\n",
       "      <th>11</th>\n",
       "      <td>False</td>\n",
       "      <td>[deleted]</td>\n",
       "      <td>NaN</td>\n",
       "      <td>NaN</td>\n",
       "      <td>False</td>\n",
       "      <td>1480698278</td>\n",
       "      <td>NaN</td>\n",
       "      <td>popsci.com</td>\n",
       "      <td>0.0</td>\n",
       "      <td>False</td>\n",
       "      <td>0.0</td>\n",
       "      <td>False</td>\n",
       "      <td>5g4d5c</td>\n",
       "      <td>False</td>\n",
       "      <td>general</td>\n",
       "      <td>AI</td>\n",
       "      <td>False</td>\n",
       "      <td>NaN</td>\n",
       "      <td>{}</td>\n",
       "      <td>t3_5g4d5c</td>\n",
       "      <td>0.0</td>\n",
       "      <td>False</td>\n",
       "      <td>/r/technology/comments/5g4d5c/reuters_built_a_...</td>\n",
       "      <td>NaN</td>\n",
       "      <td>NaN</td>\n",
       "      <td>False</td>\n",
       "      <td>1.484297e+09</td>\n",
       "      <td>False</td>\n",
       "      <td>3.0</td>\n",
       "      <td>NaN</td>\n",
       "      <td>{}</td>\n",
       "      <td>[deleted]</td>\n",
       "      <td>False</td>\n",
       "      <td>False</td>\n",
       "      <td>technology</td>\n",
       "      <td>t5_2qh16</td>\n",
       "      <td>default</td>\n",
       "      <td>Reuters built a bot that can identify real new...</td>\n",
       "      <td>3.0</td>\n",
       "      <td>http://www.popsci.com/artificial-intelligence-...</td>\n",
       "    </tr>\n",
       "    <tr>\n",
       "      <th>17</th>\n",
       "      <td>False</td>\n",
       "      <td>[deleted]</td>\n",
       "      <td>NaN</td>\n",
       "      <td>NaN</td>\n",
       "      <td>False</td>\n",
       "      <td>1480698834</td>\n",
       "      <td>NaN</td>\n",
       "      <td>self.techsupport</td>\n",
       "      <td>0.0</td>\n",
       "      <td>False</td>\n",
       "      <td>0.0</td>\n",
       "      <td>False</td>\n",
       "      <td>5g4f2j</td>\n",
       "      <td>True</td>\n",
       "      <td>NaN</td>\n",
       "      <td>NaN</td>\n",
       "      <td>False</td>\n",
       "      <td>NaN</td>\n",
       "      <td>{}</td>\n",
       "      <td>t3_5g4f2j</td>\n",
       "      <td>12.0</td>\n",
       "      <td>False</td>\n",
       "      <td>/r/techsupport/comments/5g4f2j/connect_pc_to_l...</td>\n",
       "      <td>NaN</td>\n",
       "      <td>NaN</td>\n",
       "      <td>False</td>\n",
       "      <td>1.484297e+09</td>\n",
       "      <td>False</td>\n",
       "      <td>1.0</td>\n",
       "      <td>NaN</td>\n",
       "      <td>{}</td>\n",
       "      <td>[deleted]</td>\n",
       "      <td>False</td>\n",
       "      <td>False</td>\n",
       "      <td>techsupport</td>\n",
       "      <td>t5_2qioo</td>\n",
       "      <td>default</td>\n",
       "      <td>Connect PC to laptop</td>\n",
       "      <td>1.0</td>\n",
       "      <td>https://www.reddit.com/r/techsupport/comments/...</td>\n",
       "    </tr>\n",
       "  </tbody>\n",
       "</table>\n",
       "</div>"
      ],
      "text/plain": [
       "    archived     author author_flair_css_class author_flair_text  contest_mode  created_utc distinguished                 domain  downs      edited  gilded  hide_score      id  is_self link_flair_css_class link_flair_text  locked media media_embed       name  num_comments  over_18                                          permalink post_hint preview  quarantine  retrieved_on  saved  score secure_media secure_media_embed   selftext  spoiler  stickied         subreddit subreddit_id thumbnail                                              title  ups                                                url\n",
       "3      False  [deleted]                    NaN               NaN         False   1480697634           NaN  self.learnprogramming    0.0  1480698462     0.0       False  5g4awr     True               solved          Solved   False   NaN          {}  t3_5g4awr           9.0    False  /r/learnprogramming/comments/5g4awr/java_findi...       NaN     NaN       False  1.484297e+09  False    0.0          NaN                 {}  [deleted]    False     False  learnprogramming     t5_2r7yd   default          [Java] Finding smallest value in an array  0.0  https://www.reddit.com/r/learnprogramming/comm...\n",
       "6      False  [deleted]                    NaN               NaN         False   1480697781           NaN            self.Python    0.0       False     0.0       False  5g4bg2     True                  NaN             NaN   False   NaN          {}  t3_5g4bg2           5.0    False  /r/Python/comments/5g4bg2/how_can_i_use_differ...       NaN     NaN       False  1.484297e+09  False    0.0          NaN                 {}  [deleted]    False     False            Python     t5_2qh0y   default  How can I use (different 'groups' of 8 differe...  0.0  https://www.reddit.com/r/Python/comments/5g4bg...\n",
       "10     False  [deleted]                    NaN               NaN         False   1480698138           NaN             amazon.com    0.0       False     0.0       False  5g4clp    False                  NaN             NaN   False   NaN          {}  t3_5g4clp           0.0    False  /r/technology/comments/5g4clp/do_you_life_adve...       NaN     NaN       False  1.484297e+09  False    1.0          NaN                 {}  [deleted]    False     False        technology     t5_2qh16   default  Do you life adventure? Don't forget to take th...  1.0  https://www.amazon.com/Paracord-Survival-Brace...\n",
       "11     False  [deleted]                    NaN               NaN         False   1480698278           NaN             popsci.com    0.0       False     0.0       False  5g4d5c    False              general              AI   False   NaN          {}  t3_5g4d5c           0.0    False  /r/technology/comments/5g4d5c/reuters_built_a_...       NaN     NaN       False  1.484297e+09  False    3.0          NaN                 {}  [deleted]    False     False        technology     t5_2qh16   default  Reuters built a bot that can identify real new...  3.0  http://www.popsci.com/artificial-intelligence-...\n",
       "17     False  [deleted]                    NaN               NaN         False   1480698834           NaN       self.techsupport    0.0       False     0.0       False  5g4f2j     True                  NaN             NaN   False   NaN          {}  t3_5g4f2j          12.0    False  /r/techsupport/comments/5g4f2j/connect_pc_to_l...       NaN     NaN       False  1.484297e+09  False    1.0          NaN                 {}  [deleted]    False     False       techsupport     t5_2qioo   default                               Connect PC to laptop  1.0  https://www.reddit.com/r/techsupport/comments/..."
      ]
     },
     "execution_count": 13,
     "metadata": {},
     "output_type": "execute_result"
    }
   ],
   "source": [
    "#find the SelfText columns which have the word deleted in them\n",
    "\n",
    "data.loc[data['selftext']=='[deleted]',:][:5]"
   ]
  },
  {
   "cell_type": "code",
   "execution_count": 14,
   "metadata": {},
   "outputs": [
    {
     "name": "stdout",
     "output_type": "stream",
     "text": [
      "5269\n"
     ]
    }
   ],
   "source": [
    "print (len(data.loc[data['selftext']=='[deleted]',:]))"
   ]
  },
  {
   "cell_type": "code",
   "execution_count": 15,
   "metadata": {},
   "outputs": [
    {
     "data": {
      "text/plain": [
       "'I have a Sony surround sound system for a blu-ray player with the 4.2mm connectors. Is there a way I can play all my other devices through my speakers. What kind of connectors and amps do I need to get it to work'"
      ]
     },
     "execution_count": 15,
     "metadata": {},
     "output_type": "execute_result"
    }
   ],
   "source": [
    "data['selftext'][0]"
   ]
  },
  {
   "cell_type": "markdown",
   "metadata": {},
   "source": []
  },
  {
   "cell_type": "code",
   "execution_count": 16,
   "metadata": {},
   "outputs": [
    {
     "data": {
      "text/plain": [
       "subreddit\n",
       "technology          79953.0\n",
       "learnprogramming    38286.0\n",
       "gamedev             18855.0\n",
       "techsupport         18515.0\n",
       "linux               11989.0\n",
       "learnpython          9852.0\n",
       "Python               6006.0\n",
       "web_design           4631.0\n",
       "engineering          3939.0\n",
       "javascript           2136.0\n",
       "PHP                  1549.0\n",
       "java                 1538.0\n",
       "compsci              1390.0\n",
       "javahelp             1159.0\n",
       "iOSProgramming       1042.0\n",
       "dailyprogrammer       753.0\n",
       "swift                 735.0\n",
       "computerscience       708.0\n",
       "csshelp               629.0\n",
       "cpp                   607.0\n",
       "django                579.0\n",
       "ruby                  520.0\n",
       "programming           511.0\n",
       "netsec                498.0\n",
       "css                   309.0\n",
       "flask                 230.0\n",
       "html5                 171.0\n",
       "perl                  168.0\n",
       "HTML                  146.0\n",
       "jquery                118.0\n",
       "pygame                114.0\n",
       "lisp                   90.0\n",
       "coding                 65.0\n",
       "programmer             28.0\n",
       "IPython                27.0\n",
       "inventwithpython       18.0\n",
       "pystats                 7.0\n",
       "pythoncoding            2.0\n",
       "Name: ups, dtype: float64"
      ]
     },
     "execution_count": 16,
     "metadata": {},
     "output_type": "execute_result"
    }
   ],
   "source": [
    "#Subreddit Category with the most UPS Votes\n",
    "#specific reddit group that has the most UPS votes\n",
    "\n",
    "data.groupby(by='subreddit',axis=0).ups.sum().sort_values(ascending=False)"
   ]
  },
  {
   "cell_type": "code",
   "execution_count": 17,
   "metadata": {
    "collapsed": true
   },
   "outputs": [],
   "source": [
    "# data.groupby(by='subreddit',axis=0).ups.sum().sort_values(ascending=False)[0:9].plot(kind='bar')\n",
    "# plt.title('Top 10 SubReddits with the most Up Votes', fontsize=25)"
   ]
  },
  {
   "cell_type": "code",
   "execution_count": 18,
   "metadata": {},
   "outputs": [
    {
     "data": {
      "text/html": [
       "<div>\n",
       "<style>\n",
       "    .dataframe thead tr:only-child th {\n",
       "        text-align: right;\n",
       "    }\n",
       "\n",
       "    .dataframe thead th {\n",
       "        text-align: left;\n",
       "    }\n",
       "\n",
       "    .dataframe tbody tr th {\n",
       "        vertical-align: top;\n",
       "    }\n",
       "</style>\n",
       "<table border=\"1\" class=\"dataframe\">\n",
       "  <thead>\n",
       "    <tr style=\"text-align: right;\">\n",
       "      <th></th>\n",
       "      <th>archived</th>\n",
       "      <th>author</th>\n",
       "      <th>author_flair_css_class</th>\n",
       "      <th>author_flair_text</th>\n",
       "      <th>contest_mode</th>\n",
       "      <th>created_utc</th>\n",
       "      <th>distinguished</th>\n",
       "      <th>domain</th>\n",
       "      <th>downs</th>\n",
       "      <th>edited</th>\n",
       "      <th>gilded</th>\n",
       "      <th>hide_score</th>\n",
       "      <th>id</th>\n",
       "      <th>is_self</th>\n",
       "      <th>link_flair_css_class</th>\n",
       "      <th>link_flair_text</th>\n",
       "      <th>locked</th>\n",
       "      <th>media</th>\n",
       "      <th>media_embed</th>\n",
       "      <th>name</th>\n",
       "      <th>num_comments</th>\n",
       "      <th>over_18</th>\n",
       "      <th>permalink</th>\n",
       "      <th>post_hint</th>\n",
       "      <th>preview</th>\n",
       "      <th>quarantine</th>\n",
       "      <th>retrieved_on</th>\n",
       "      <th>saved</th>\n",
       "      <th>score</th>\n",
       "      <th>secure_media</th>\n",
       "      <th>secure_media_embed</th>\n",
       "      <th>selftext</th>\n",
       "      <th>spoiler</th>\n",
       "      <th>stickied</th>\n",
       "      <th>subreddit</th>\n",
       "      <th>subreddit_id</th>\n",
       "      <th>thumbnail</th>\n",
       "      <th>title</th>\n",
       "      <th>ups</th>\n",
       "      <th>url</th>\n",
       "    </tr>\n",
       "  </thead>\n",
       "  <tbody>\n",
       "    <tr>\n",
       "      <th>0</th>\n",
       "      <td>False</td>\n",
       "      <td>johnnyawesome0</td>\n",
       "      <td>NaN</td>\n",
       "      <td>NaN</td>\n",
       "      <td>False</td>\n",
       "      <td>1480697304</td>\n",
       "      <td>NaN</td>\n",
       "      <td>self.techsupport</td>\n",
       "      <td>0.0</td>\n",
       "      <td>False</td>\n",
       "      <td>0.0</td>\n",
       "      <td>False</td>\n",
       "      <td>5g49s2</td>\n",
       "      <td>True</td>\n",
       "      <td>NaN</td>\n",
       "      <td>NaN</td>\n",
       "      <td>False</td>\n",
       "      <td>NaN</td>\n",
       "      <td>{}</td>\n",
       "      <td>t3_5g49s2</td>\n",
       "      <td>1.0</td>\n",
       "      <td>False</td>\n",
       "      <td>/r/techsupport/comments/5g49s2/help_with_audio...</td>\n",
       "      <td>NaN</td>\n",
       "      <td>NaN</td>\n",
       "      <td>False</td>\n",
       "      <td>1.484297e+09</td>\n",
       "      <td>False</td>\n",
       "      <td>1.0</td>\n",
       "      <td>NaN</td>\n",
       "      <td>{}</td>\n",
       "      <td>I have a Sony surround sound system for a blu-...</td>\n",
       "      <td>False</td>\n",
       "      <td>False</td>\n",
       "      <td>techsupport</td>\n",
       "      <td>t5_2qioo</td>\n",
       "      <td>self</td>\n",
       "      <td>Help with audio set-up</td>\n",
       "      <td>1.0</td>\n",
       "      <td>https://www.reddit.com/r/techsupport/comments/...</td>\n",
       "    </tr>\n",
       "    <tr>\n",
       "      <th>1</th>\n",
       "      <td>False</td>\n",
       "      <td>Silverfin113</td>\n",
       "      <td>NaN</td>\n",
       "      <td>NaN</td>\n",
       "      <td>False</td>\n",
       "      <td>1480697424</td>\n",
       "      <td>NaN</td>\n",
       "      <td>self.learnprogramming</td>\n",
       "      <td>0.0</td>\n",
       "      <td>False</td>\n",
       "      <td>0.0</td>\n",
       "      <td>False</td>\n",
       "      <td>5g4a5p</td>\n",
       "      <td>True</td>\n",
       "      <td>NaN</td>\n",
       "      <td>NaN</td>\n",
       "      <td>False</td>\n",
       "      <td>NaN</td>\n",
       "      <td>{}</td>\n",
       "      <td>t3_5g4a5p</td>\n",
       "      <td>8.0</td>\n",
       "      <td>False</td>\n",
       "      <td>/r/learnprogramming/comments/5g4a5p/optimizing...</td>\n",
       "      <td>NaN</td>\n",
       "      <td>NaN</td>\n",
       "      <td>False</td>\n",
       "      <td>1.484297e+09</td>\n",
       "      <td>False</td>\n",
       "      <td>23.0</td>\n",
       "      <td>NaN</td>\n",
       "      <td>{}</td>\n",
       "      <td>I've written what seems to be a prohibitively ...</td>\n",
       "      <td>False</td>\n",
       "      <td>False</td>\n",
       "      <td>learnprogramming</td>\n",
       "      <td>t5_2r7yd</td>\n",
       "      <td>self</td>\n",
       "      <td>Optimizing code for speed</td>\n",
       "      <td>23.0</td>\n",
       "      <td>https://www.reddit.com/r/learnprogramming/comm...</td>\n",
       "    </tr>\n",
       "    <tr>\n",
       "      <th>2</th>\n",
       "      <td>False</td>\n",
       "      <td>bookbooksbooks</td>\n",
       "      <td>NaN</td>\n",
       "      <td>NaN</td>\n",
       "      <td>False</td>\n",
       "      <td>1480697613</td>\n",
       "      <td>NaN</td>\n",
       "      <td>self.gamedev</td>\n",
       "      <td>0.0</td>\n",
       "      <td>False</td>\n",
       "      <td>0.0</td>\n",
       "      <td>False</td>\n",
       "      <td>5g4att</td>\n",
       "      <td>True</td>\n",
       "      <td>discussion cat-talk</td>\n",
       "      <td>Discussion</td>\n",
       "      <td>False</td>\n",
       "      <td>NaN</td>\n",
       "      <td>{}</td>\n",
       "      <td>t3_5g4att</td>\n",
       "      <td>5.0</td>\n",
       "      <td>False</td>\n",
       "      <td>/r/gamedev/comments/5g4att/seeking_tales_of_de...</td>\n",
       "      <td>NaN</td>\n",
       "      <td>NaN</td>\n",
       "      <td>False</td>\n",
       "      <td>1.484297e+09</td>\n",
       "      <td>False</td>\n",
       "      <td>12.0</td>\n",
       "      <td>NaN</td>\n",
       "      <td>{}</td>\n",
       "      <td>I'm writing an article called \"Video Games Tha...</td>\n",
       "      <td>False</td>\n",
       "      <td>False</td>\n",
       "      <td>gamedev</td>\n",
       "      <td>t5_2qi0a</td>\n",
       "      <td>self</td>\n",
       "      <td>Seeking Tales of Development Woe (and Triumph)...</td>\n",
       "      <td>12.0</td>\n",
       "      <td>https://www.reddit.com/r/gamedev/comments/5g4a...</td>\n",
       "    </tr>\n",
       "    <tr>\n",
       "      <th>4</th>\n",
       "      <td>False</td>\n",
       "      <td>caffeine_potent</td>\n",
       "      <td>NaN</td>\n",
       "      <td>NaN</td>\n",
       "      <td>False</td>\n",
       "      <td>1480697748</td>\n",
       "      <td>NaN</td>\n",
       "      <td>self.learnpython</td>\n",
       "      <td>0.0</td>\n",
       "      <td>1480709138</td>\n",
       "      <td>0.0</td>\n",
       "      <td>False</td>\n",
       "      <td>5g4bcr</td>\n",
       "      <td>True</td>\n",
       "      <td>NaN</td>\n",
       "      <td>NaN</td>\n",
       "      <td>False</td>\n",
       "      <td>NaN</td>\n",
       "      <td>{}</td>\n",
       "      <td>t3_5g4bcr</td>\n",
       "      <td>12.0</td>\n",
       "      <td>False</td>\n",
       "      <td>/r/learnpython/comments/5g4bcr/currying_functi...</td>\n",
       "      <td>NaN</td>\n",
       "      <td>NaN</td>\n",
       "      <td>False</td>\n",
       "      <td>1.484297e+09</td>\n",
       "      <td>False</td>\n",
       "      <td>6.0</td>\n",
       "      <td>NaN</td>\n",
       "      <td>{}</td>\n",
       "      <td>I have the following representation of argumen...</td>\n",
       "      <td>False</td>\n",
       "      <td>False</td>\n",
       "      <td>learnpython</td>\n",
       "      <td>t5_2r8ot</td>\n",
       "      <td>self</td>\n",
       "      <td>currying functions using functools</td>\n",
       "      <td>6.0</td>\n",
       "      <td>https://www.reddit.com/r/learnpython/comments/...</td>\n",
       "    </tr>\n",
       "    <tr>\n",
       "      <th>5</th>\n",
       "      <td>False</td>\n",
       "      <td>uzbek1993</td>\n",
       "      <td>NaN</td>\n",
       "      <td>NaN</td>\n",
       "      <td>False</td>\n",
       "      <td>1480697775</td>\n",
       "      <td>NaN</td>\n",
       "      <td>self.learnprogramming</td>\n",
       "      <td>0.0</td>\n",
       "      <td>False</td>\n",
       "      <td>0.0</td>\n",
       "      <td>False</td>\n",
       "      <td>5g4bfi</td>\n",
       "      <td>True</td>\n",
       "      <td>NaN</td>\n",
       "      <td>NaN</td>\n",
       "      <td>False</td>\n",
       "      <td>NaN</td>\n",
       "      <td>{}</td>\n",
       "      <td>t3_5g4bfi</td>\n",
       "      <td>1.0</td>\n",
       "      <td>False</td>\n",
       "      <td>/r/learnprogramming/comments/5g4bfi/text_edito...</td>\n",
       "      <td>NaN</td>\n",
       "      <td>NaN</td>\n",
       "      <td>False</td>\n",
       "      <td>1.484297e+09</td>\n",
       "      <td>False</td>\n",
       "      <td>1.0</td>\n",
       "      <td>NaN</td>\n",
       "      <td>{}</td>\n",
       "      <td>I am about to create a website where users use...</td>\n",
       "      <td>False</td>\n",
       "      <td>False</td>\n",
       "      <td>learnprogramming</td>\n",
       "      <td>t5_2r7yd</td>\n",
       "      <td>self</td>\n",
       "      <td>Text Editor integration</td>\n",
       "      <td>1.0</td>\n",
       "      <td>https://www.reddit.com/r/learnprogramming/comm...</td>\n",
       "    </tr>\n",
       "  </tbody>\n",
       "</table>\n",
       "</div>"
      ],
      "text/plain": [
       "   archived           author author_flair_css_class author_flair_text  contest_mode  created_utc distinguished                 domain  downs      edited  gilded  hide_score      id  is_self link_flair_css_class link_flair_text  locked media media_embed       name  num_comments  over_18                                          permalink post_hint preview  quarantine  retrieved_on  saved  score secure_media secure_media_embed                                           selftext  spoiler  stickied         subreddit subreddit_id thumbnail                                              title   ups                                                url\n",
       "0     False   johnnyawesome0                    NaN               NaN         False   1480697304           NaN       self.techsupport    0.0       False     0.0       False  5g49s2     True                  NaN             NaN   False   NaN          {}  t3_5g49s2           1.0    False  /r/techsupport/comments/5g49s2/help_with_audio...       NaN     NaN       False  1.484297e+09  False    1.0          NaN                 {}  I have a Sony surround sound system for a blu-...    False     False       techsupport     t5_2qioo      self                             Help with audio set-up   1.0  https://www.reddit.com/r/techsupport/comments/...\n",
       "1     False     Silverfin113                    NaN               NaN         False   1480697424           NaN  self.learnprogramming    0.0       False     0.0       False  5g4a5p     True                  NaN             NaN   False   NaN          {}  t3_5g4a5p           8.0    False  /r/learnprogramming/comments/5g4a5p/optimizing...       NaN     NaN       False  1.484297e+09  False   23.0          NaN                 {}  I've written what seems to be a prohibitively ...    False     False  learnprogramming     t5_2r7yd      self                          Optimizing code for speed  23.0  https://www.reddit.com/r/learnprogramming/comm...\n",
       "2     False   bookbooksbooks                    NaN               NaN         False   1480697613           NaN           self.gamedev    0.0       False     0.0       False  5g4att     True  discussion cat-talk      Discussion   False   NaN          {}  t3_5g4att           5.0    False  /r/gamedev/comments/5g4att/seeking_tales_of_de...       NaN     NaN       False  1.484297e+09  False   12.0          NaN                 {}  I'm writing an article called \"Video Games Tha...    False     False           gamedev     t5_2qi0a      self  Seeking Tales of Development Woe (and Triumph)...  12.0  https://www.reddit.com/r/gamedev/comments/5g4a...\n",
       "4     False  caffeine_potent                    NaN               NaN         False   1480697748           NaN       self.learnpython    0.0  1480709138     0.0       False  5g4bcr     True                  NaN             NaN   False   NaN          {}  t3_5g4bcr          12.0    False  /r/learnpython/comments/5g4bcr/currying_functi...       NaN     NaN       False  1.484297e+09  False    6.0          NaN                 {}  I have the following representation of argumen...    False     False       learnpython     t5_2r8ot      self                 currying functions using functools   6.0  https://www.reddit.com/r/learnpython/comments/...\n",
       "5     False        uzbek1993                    NaN               NaN         False   1480697775           NaN  self.learnprogramming    0.0       False     0.0       False  5g4bfi     True                  NaN             NaN   False   NaN          {}  t3_5g4bfi           1.0    False  /r/learnprogramming/comments/5g4bfi/text_edito...       NaN     NaN       False  1.484297e+09  False    1.0          NaN                 {}  I am about to create a website where users use...    False     False  learnprogramming     t5_2r7yd      self                            Text Editor integration   1.0  https://www.reddit.com/r/learnprogramming/comm..."
      ]
     },
     "execution_count": 18,
     "metadata": {},
     "output_type": "execute_result"
    }
   ],
   "source": [
    "clean_data = data.loc[data['selftext']!='[deleted]',:]\n",
    "clean_data.head()"
   ]
  },
  {
   "cell_type": "markdown",
   "metadata": {},
   "source": []
  },
  {
   "cell_type": "code",
   "execution_count": 19,
   "metadata": {
    "collapsed": true
   },
   "outputs": [],
   "source": [
    "#combine the SelfText, Title and Subreddit columns\n",
    "self_text = clean_data['selftext']\n",
    "title = clean_data['title']\n",
    "subreddit = clean_data['subreddit']"
   ]
  },
  {
   "cell_type": "code",
   "execution_count": 20,
   "metadata": {},
   "outputs": [
    {
     "name": "stderr",
     "output_type": "stream",
     "text": [
      "C:\\Users\\Pernesso\\Anaconda3\\lib\\site-packages\\ipykernel_launcher.py:1: SettingWithCopyWarning: \n",
      "A value is trying to be set on a copy of a slice from a DataFrame.\n",
      "Try using .loc[row_indexer,col_indexer] = value instead\n",
      "\n",
      "See the caveats in the documentation: http://pandas.pydata.org/pandas-docs/stable/indexing.html#indexing-view-versus-copy\n",
      "  \"\"\"Entry point for launching an IPython kernel.\n"
     ]
    }
   ],
   "source": [
    "clean_data['aggregated_column'] = clean_data['selftext'] + ' ' + clean_data['subreddit'] + ' ' +  clean_data['title'] "
   ]
  },
  {
   "cell_type": "code",
   "execution_count": 21,
   "metadata": {
    "collapsed": true
   },
   "outputs": [],
   "source": [
    "# Linear Regression Model with combine_column to make the prediction for ups (upvotes)"
   ]
  },
  {
   "cell_type": "markdown",
   "metadata": {},
   "source": [
    "# Vectorizer"
   ]
  },
  {
   "cell_type": "code",
   "execution_count": 22,
   "metadata": {
    "collapsed": true
   },
   "outputs": [],
   "source": [
    "X = clean_data['aggregated_column']\n",
    "y = clean_data['ups']\n",
    "\n",
    "vt = CountVectorizer(stop_words='english')\n",
    "X_vt = vt.fit(X)\n",
    "X_vt_transform = X_vt.transform(X)"
   ]
  },
  {
   "cell_type": "code",
   "execution_count": 24,
   "metadata": {},
   "outputs": [
    {
     "ename": "MemoryError",
     "evalue": "",
     "output_type": "error",
     "traceback": [
      "\u001b[1;31m---------------------------------------------------------------------------\u001b[0m",
      "\u001b[1;31mMemoryError\u001b[0m                               Traceback (most recent call last)",
      "\u001b[1;32m<ipython-input-24-12815a47afd3>\u001b[0m in \u001b[0;36m<module>\u001b[1;34m()\u001b[0m\n\u001b[0;32m      1\u001b[0m \u001b[1;31m#Creating a dataframe using the transformed Values\u001b[0m\u001b[1;33m\u001b[0m\u001b[1;33m\u001b[0m\u001b[0m\n\u001b[1;32m----> 2\u001b[1;33m \u001b[0mx_vt_df\u001b[0m \u001b[1;33m=\u001b[0m \u001b[0mpd\u001b[0m\u001b[1;33m.\u001b[0m\u001b[0mDataFrame\u001b[0m\u001b[1;33m(\u001b[0m\u001b[0mX_vt_transform\u001b[0m\u001b[1;33m.\u001b[0m\u001b[0mtodense\u001b[0m\u001b[1;33m(\u001b[0m\u001b[1;33m)\u001b[0m\u001b[1;33m,\u001b[0m \u001b[0mcolumns\u001b[0m\u001b[1;33m=\u001b[0m\u001b[0mX_vt\u001b[0m\u001b[1;33m.\u001b[0m\u001b[0mget_feature_names\u001b[0m\u001b[1;33m(\u001b[0m\u001b[1;33m)\u001b[0m\u001b[1;33m,\u001b[0m \u001b[0mindex\u001b[0m\u001b[1;33m=\u001b[0m\u001b[0mclean_data\u001b[0m\u001b[1;33m.\u001b[0m\u001b[0mindex\u001b[0m\u001b[1;33m)\u001b[0m\u001b[1;33m\u001b[0m\u001b[0m\n\u001b[0m\u001b[0;32m      3\u001b[0m \u001b[0mx_vt_df\u001b[0m\u001b[1;33m.\u001b[0m\u001b[0mhead\u001b[0m\u001b[1;33m(\u001b[0m\u001b[1;33m)\u001b[0m\u001b[1;33m\u001b[0m\u001b[0m\n",
      "\u001b[1;32m~\\Anaconda3\\lib\\site-packages\\scipy\\sparse\\base.py\u001b[0m in \u001b[0;36mtodense\u001b[1;34m(self, order, out)\u001b[0m\n\u001b[0;32m    719\u001b[0m             \u001b[0;31m`\u001b[0m\u001b[0mnumpy\u001b[0m\u001b[1;33m.\u001b[0m\u001b[0mmatrix\u001b[0m\u001b[0;31m`\u001b[0m \u001b[0mobject\u001b[0m \u001b[0mthat\u001b[0m \u001b[0mshares\u001b[0m \u001b[0mthe\u001b[0m \u001b[0msame\u001b[0m \u001b[0mmemory\u001b[0m\u001b[1;33m.\u001b[0m\u001b[1;33m\u001b[0m\u001b[0m\n\u001b[0;32m    720\u001b[0m         \"\"\"\n\u001b[1;32m--> 721\u001b[1;33m         \u001b[1;32mreturn\u001b[0m \u001b[0mnp\u001b[0m\u001b[1;33m.\u001b[0m\u001b[0masmatrix\u001b[0m\u001b[1;33m(\u001b[0m\u001b[0mself\u001b[0m\u001b[1;33m.\u001b[0m\u001b[0mtoarray\u001b[0m\u001b[1;33m(\u001b[0m\u001b[0morder\u001b[0m\u001b[1;33m=\u001b[0m\u001b[0morder\u001b[0m\u001b[1;33m,\u001b[0m \u001b[0mout\u001b[0m\u001b[1;33m=\u001b[0m\u001b[0mout\u001b[0m\u001b[1;33m)\u001b[0m\u001b[1;33m)\u001b[0m\u001b[1;33m\u001b[0m\u001b[0m\n\u001b[0m\u001b[0;32m    722\u001b[0m \u001b[1;33m\u001b[0m\u001b[0m\n\u001b[0;32m    723\u001b[0m     \u001b[1;32mdef\u001b[0m \u001b[0mtoarray\u001b[0m\u001b[1;33m(\u001b[0m\u001b[0mself\u001b[0m\u001b[1;33m,\u001b[0m \u001b[0morder\u001b[0m\u001b[1;33m=\u001b[0m\u001b[1;32mNone\u001b[0m\u001b[1;33m,\u001b[0m \u001b[0mout\u001b[0m\u001b[1;33m=\u001b[0m\u001b[1;32mNone\u001b[0m\u001b[1;33m)\u001b[0m\u001b[1;33m:\u001b[0m\u001b[1;33m\u001b[0m\u001b[0m\n",
      "\u001b[1;32m~\\Anaconda3\\lib\\site-packages\\scipy\\sparse\\compressed.py\u001b[0m in \u001b[0;36mtoarray\u001b[1;34m(self, order, out)\u001b[0m\n\u001b[0;32m    962\u001b[0m     \u001b[1;32mdef\u001b[0m \u001b[0mtoarray\u001b[0m\u001b[1;33m(\u001b[0m\u001b[0mself\u001b[0m\u001b[1;33m,\u001b[0m \u001b[0morder\u001b[0m\u001b[1;33m=\u001b[0m\u001b[1;32mNone\u001b[0m\u001b[1;33m,\u001b[0m \u001b[0mout\u001b[0m\u001b[1;33m=\u001b[0m\u001b[1;32mNone\u001b[0m\u001b[1;33m)\u001b[0m\u001b[1;33m:\u001b[0m\u001b[1;33m\u001b[0m\u001b[0m\n\u001b[0;32m    963\u001b[0m         \u001b[1;34m\"\"\"See the docstring for `spmatrix.toarray`.\"\"\"\u001b[0m\u001b[1;33m\u001b[0m\u001b[0m\n\u001b[1;32m--> 964\u001b[1;33m         \u001b[1;32mreturn\u001b[0m \u001b[0mself\u001b[0m\u001b[1;33m.\u001b[0m\u001b[0mtocoo\u001b[0m\u001b[1;33m(\u001b[0m\u001b[0mcopy\u001b[0m\u001b[1;33m=\u001b[0m\u001b[1;32mFalse\u001b[0m\u001b[1;33m)\u001b[0m\u001b[1;33m.\u001b[0m\u001b[0mtoarray\u001b[0m\u001b[1;33m(\u001b[0m\u001b[0morder\u001b[0m\u001b[1;33m=\u001b[0m\u001b[0morder\u001b[0m\u001b[1;33m,\u001b[0m \u001b[0mout\u001b[0m\u001b[1;33m=\u001b[0m\u001b[0mout\u001b[0m\u001b[1;33m)\u001b[0m\u001b[1;33m\u001b[0m\u001b[0m\n\u001b[0m\u001b[0;32m    965\u001b[0m \u001b[1;33m\u001b[0m\u001b[0m\n\u001b[0;32m    966\u001b[0m     \u001b[1;31m##############################################################\u001b[0m\u001b[1;33m\u001b[0m\u001b[1;33m\u001b[0m\u001b[0m\n",
      "\u001b[1;32m~\\Anaconda3\\lib\\site-packages\\scipy\\sparse\\coo.py\u001b[0m in \u001b[0;36mtoarray\u001b[1;34m(self, order, out)\u001b[0m\n\u001b[0;32m    250\u001b[0m     \u001b[1;32mdef\u001b[0m \u001b[0mtoarray\u001b[0m\u001b[1;33m(\u001b[0m\u001b[0mself\u001b[0m\u001b[1;33m,\u001b[0m \u001b[0morder\u001b[0m\u001b[1;33m=\u001b[0m\u001b[1;32mNone\u001b[0m\u001b[1;33m,\u001b[0m \u001b[0mout\u001b[0m\u001b[1;33m=\u001b[0m\u001b[1;32mNone\u001b[0m\u001b[1;33m)\u001b[0m\u001b[1;33m:\u001b[0m\u001b[1;33m\u001b[0m\u001b[0m\n\u001b[0;32m    251\u001b[0m         \u001b[1;34m\"\"\"See the docstring for `spmatrix.toarray`.\"\"\"\u001b[0m\u001b[1;33m\u001b[0m\u001b[0m\n\u001b[1;32m--> 252\u001b[1;33m         \u001b[0mB\u001b[0m \u001b[1;33m=\u001b[0m \u001b[0mself\u001b[0m\u001b[1;33m.\u001b[0m\u001b[0m_process_toarray_args\u001b[0m\u001b[1;33m(\u001b[0m\u001b[0morder\u001b[0m\u001b[1;33m,\u001b[0m \u001b[0mout\u001b[0m\u001b[1;33m)\u001b[0m\u001b[1;33m\u001b[0m\u001b[0m\n\u001b[0m\u001b[0;32m    253\u001b[0m         \u001b[0mfortran\u001b[0m \u001b[1;33m=\u001b[0m \u001b[0mint\u001b[0m\u001b[1;33m(\u001b[0m\u001b[0mB\u001b[0m\u001b[1;33m.\u001b[0m\u001b[0mflags\u001b[0m\u001b[1;33m.\u001b[0m\u001b[0mf_contiguous\u001b[0m\u001b[1;33m)\u001b[0m\u001b[1;33m\u001b[0m\u001b[0m\n\u001b[0;32m    254\u001b[0m         \u001b[1;32mif\u001b[0m \u001b[1;32mnot\u001b[0m \u001b[0mfortran\u001b[0m \u001b[1;32mand\u001b[0m \u001b[1;32mnot\u001b[0m \u001b[0mB\u001b[0m\u001b[1;33m.\u001b[0m\u001b[0mflags\u001b[0m\u001b[1;33m.\u001b[0m\u001b[0mc_contiguous\u001b[0m\u001b[1;33m:\u001b[0m\u001b[1;33m\u001b[0m\u001b[0m\n",
      "\u001b[1;32m~\\Anaconda3\\lib\\site-packages\\scipy\\sparse\\base.py\u001b[0m in \u001b[0;36m_process_toarray_args\u001b[1;34m(self, order, out)\u001b[0m\n\u001b[0;32m   1037\u001b[0m             \u001b[1;32mreturn\u001b[0m \u001b[0mout\u001b[0m\u001b[1;33m\u001b[0m\u001b[0m\n\u001b[0;32m   1038\u001b[0m         \u001b[1;32melse\u001b[0m\u001b[1;33m:\u001b[0m\u001b[1;33m\u001b[0m\u001b[0m\n\u001b[1;32m-> 1039\u001b[1;33m             \u001b[1;32mreturn\u001b[0m \u001b[0mnp\u001b[0m\u001b[1;33m.\u001b[0m\u001b[0mzeros\u001b[0m\u001b[1;33m(\u001b[0m\u001b[0mself\u001b[0m\u001b[1;33m.\u001b[0m\u001b[0mshape\u001b[0m\u001b[1;33m,\u001b[0m \u001b[0mdtype\u001b[0m\u001b[1;33m=\u001b[0m\u001b[0mself\u001b[0m\u001b[1;33m.\u001b[0m\u001b[0mdtype\u001b[0m\u001b[1;33m,\u001b[0m \u001b[0morder\u001b[0m\u001b[1;33m=\u001b[0m\u001b[0morder\u001b[0m\u001b[1;33m)\u001b[0m\u001b[1;33m\u001b[0m\u001b[0m\n\u001b[0m\u001b[0;32m   1040\u001b[0m \u001b[1;33m\u001b[0m\u001b[0m\n\u001b[0;32m   1041\u001b[0m     \u001b[1;32mdef\u001b[0m \u001b[0m__numpy_ufunc__\u001b[0m\u001b[1;33m(\u001b[0m\u001b[0mself\u001b[0m\u001b[1;33m,\u001b[0m \u001b[0mfunc\u001b[0m\u001b[1;33m,\u001b[0m \u001b[0mmethod\u001b[0m\u001b[1;33m,\u001b[0m \u001b[0mpos\u001b[0m\u001b[1;33m,\u001b[0m \u001b[0minputs\u001b[0m\u001b[1;33m,\u001b[0m \u001b[1;33m**\u001b[0m\u001b[0mkwargs\u001b[0m\u001b[1;33m)\u001b[0m\u001b[1;33m:\u001b[0m\u001b[1;33m\u001b[0m\u001b[0m\n",
      "\u001b[1;31mMemoryError\u001b[0m: "
     ]
    }
   ],
   "source": [
    "#Creating a dataframe using the transformed Values\n",
    "x_vt_df = pd.DataFrame(X_vt_transform.todense(), columns=X_vt.get_feature_names(), index=clean_data.index)\n",
    "x_vt_df.head()"
   ]
  },
  {
   "cell_type": "code",
   "execution_count": null,
   "metadata": {
    "collapsed": true
   },
   "outputs": [],
   "source": [
    "# len(x_vt_df.columns)"
   ]
  },
  {
   "cell_type": "code",
   "execution_count": null,
   "metadata": {
    "collapsed": true
   },
   "outputs": [],
   "source": [
    "#Too many unwanted columns, let's truncate'"
   ]
  },
  {
   "cell_type": "code",
   "execution_count": null,
   "metadata": {
    "collapsed": true
   },
   "outputs": [],
   "source": [
    "truncatedSVD = TruncatedSVD(n_components=2000)\n",
    "truncatedSVD.fit(X_vt_transform)"
   ]
  },
  {
   "cell_type": "code",
   "execution_count": null,
   "metadata": {
    "collapsed": true
   },
   "outputs": [],
   "source": [
    "plt.plot(range(2000), truncatedSVD.explained_variance_ratio_.cumsum())"
   ]
  },
  {
   "cell_type": "code",
   "execution_count": null,
   "metadata": {
    "collapsed": true
   },
   "outputs": [],
   "source": [
    "truncatedSVD_2k = TruncatedSVD(n_components=1000)\n",
    "truncatedSVD_2k.fit(x_vt_df)"
   ]
  },
  {
   "cell_type": "code",
   "execution_count": null,
   "metadata": {
    "collapsed": true
   },
   "outputs": [],
   "source": [
    "truncatedSVD_2k_transform = truncatedSVD_2k.transform(x_vt_df)"
   ]
  },
  {
   "cell_type": "code",
   "execution_count": null,
   "metadata": {
    "collapsed": true
   },
   "outputs": [],
   "source": []
  },
  {
   "cell_type": "markdown",
   "metadata": {},
   "source": []
  },
  {
   "cell_type": "code",
   "execution_count": null,
   "metadata": {
    "collapsed": true
   },
   "outputs": [],
   "source": [
    "#Using the Regressor to Predict the Up Votes\n",
    "y = clean_data['score']\n",
    "X = truncatedSVD_2k_transform"
   ]
  },
  {
   "cell_type": "code",
   "execution_count": null,
   "metadata": {
    "collapsed": true
   },
   "outputs": [],
   "source": [
    "X_train, X_test, y_train, y_test = train_test_split(X,y, test_size=0.2)"
   ]
  },
  {
   "cell_type": "markdown",
   "metadata": {},
   "source": [
    "# Linear Regresssion"
   ]
  },
  {
   "cell_type": "code",
   "execution_count": null,
   "metadata": {
    "collapsed": true
   },
   "outputs": [],
   "source": [
    "lr = LinearRegression()\n",
    "lr.fit(X_train, y_train)\n",
    "lr.score(X_train,y_train)"
   ]
  },
  {
   "cell_type": "code",
   "execution_count": null,
   "metadata": {
    "collapsed": true
   },
   "outputs": [],
   "source": [
    "\n",
    "#lr.fit(X_train, y_train)"
   ]
  },
  {
   "cell_type": "code",
   "execution_count": null,
   "metadata": {
    "collapsed": true
   },
   "outputs": [],
   "source": [
    "\n",
    "#lr.score(X_train,y_train)"
   ]
  },
  {
   "cell_type": "code",
   "execution_count": null,
   "metadata": {
    "collapsed": true
   },
   "outputs": [],
   "source": [
    "lr.score(X_test,y_test)"
   ]
  },
  {
   "cell_type": "markdown",
   "metadata": {},
   "source": [
    "This is a bad model! We score bad on train and worse of test"
   ]
  },
  {
   "cell_type": "code",
   "execution_count": null,
   "metadata": {
    "collapsed": true
   },
   "outputs": [],
   "source": [
    "## Model 2: Random Forest Regression Model with aggregated column to predict the ups (up votes)\n",
    "The model uses a Vectorizer, SVD and a simple Linear Regression to build a base model"
   ]
  },
  {
   "cell_type": "code",
   "execution_count": null,
   "metadata": {
    "collapsed": true
   },
   "outputs": [],
   "source": [
    "\n",
    "rfr = RandomForestRegressor(n_estimators=100, max_depth=15, n_jobs=-1)\n",
    "rfr.fit(X_train, y_train)\n",
    "rfr.score(X_train, y_train)\n",
    "rfr.score(X_test, y_test)"
   ]
  },
  {
   "cell_type": "code",
   "execution_count": null,
   "metadata": {
    "collapsed": true
   },
   "outputs": [],
   "source": [
    "#rfr.fit(X_train, y_train)"
   ]
  },
  {
   "cell_type": "code",
   "execution_count": null,
   "metadata": {
    "collapsed": true
   },
   "outputs": [],
   "source": [
    "#rfr.score(X_train, y_train)"
   ]
  },
  {
   "cell_type": "code",
   "execution_count": null,
   "metadata": {
    "collapsed": true
   },
   "outputs": [],
   "source": [
    "#rfr.score(X_test, y_test)"
   ]
  },
  {
   "cell_type": "code",
   "execution_count": null,
   "metadata": {
    "collapsed": true
   },
   "outputs": [],
   "source": [
    "# Because regressor models for the aggregated columns have scored poorly\n",
    "# let's use the selftext column and apply CountVectorizer to predict the scores.\n",
    "X = clean_data['selftext']\n",
    "vt = CountVectorizer(stop_words='english')\n",
    "X_vt = vt.fit(X)\n",
    "X_vt_transform = X_vt.transform(X)"
   ]
  },
  {
   "cell_type": "code",
   "execution_count": null,
   "metadata": {
    "collapsed": true
   },
   "outputs": [],
   "source": [
    "'''Creating a dataframe using the transformed Values'''\n",
    "x_vt_df = pd.DataFrame(X_vt_transform.todense(), columns=X_vt.get_feature_names(), index=clean_data.index)\n",
    "x_vt_df.head()"
   ]
  },
  {
   "cell_type": "code",
   "execution_count": null,
   "metadata": {
    "collapsed": true
   },
   "outputs": [],
   "source": [
    "'''Using 1500 components to find the new fit. In the earlier cells we had used a value of 1000'''\n",
    "\n",
    "truncatedSVD_2k = TruncatedSVD(n_components=1500)\n",
    "truncatedSVD_2k.fit(x_vt_df)\n",
    "truncatedSVD_2k_transform = truncatedSVD_2k.transform(x_vt_df)"
   ]
  },
  {
   "cell_type": "code",
   "execution_count": null,
   "metadata": {
    "collapsed": true
   },
   "outputs": [],
   "source": [
    "#truncatedSVD_2k_transform = truncatedSVD_2k.transform(x_vt_df)"
   ]
  },
  {
   "cell_type": "code",
   "execution_count": null,
   "metadata": {
    "collapsed": true
   },
   "outputs": [],
   "source": [
    "# Predictors and the Target\n",
    "y = clean_data['score']\n",
    "X = truncatedSVD_2k_transform"
   ]
  },
  {
   "cell_type": "code",
   "execution_count": null,
   "metadata": {
    "collapsed": true
   },
   "outputs": [],
   "source": [
    "\n",
    "X_train, X_test, y_train, y_test = train_test_split(X,y, test_size=0.2)"
   ]
  },
  {
   "cell_type": "code",
   "execution_count": null,
   "metadata": {
    "collapsed": true
   },
   "outputs": [],
   "source": [
    "\n",
    "lr = LinearRegression()\n",
    "lr.fit(X_train, y_train)\n",
    "lr.score(X_train,y_train)\n",
    "lr.score(X_test,y_test)"
   ]
  },
  {
   "cell_type": "code",
   "execution_count": null,
   "metadata": {
    "collapsed": true
   },
   "outputs": [],
   "source": [
    "\n",
    "#lr.fit(X_train, y_train)"
   ]
  },
  {
   "cell_type": "code",
   "execution_count": null,
   "metadata": {
    "collapsed": true
   },
   "outputs": [],
   "source": [
    "\n",
    "#lr.score(X_train,y_train)"
   ]
  },
  {
   "cell_type": "code",
   "execution_count": null,
   "metadata": {
    "collapsed": true
   },
   "outputs": [],
   "source": [
    "\n",
    "#lr.score(X_test,y_test)"
   ]
  },
  {
   "cell_type": "code",
   "execution_count": null,
   "metadata": {
    "collapsed": true
   },
   "outputs": [],
   "source": [
    "#let's build out a classifier model that would predict whether a post belongs to Tech Support or not based on a #simple model"
   ]
  },
  {
   "cell_type": "code",
   "execution_count": null,
   "metadata": {
    "collapsed": true
   },
   "outputs": [],
   "source": [
    "#Model 3: Logisitic Regression model to predict the SubReddit Category as Techsupport v/s Non-Tech Support"
   ]
  },
  {
   "cell_type": "code",
   "execution_count": null,
   "metadata": {
    "collapsed": true
   },
   "outputs": [],
   "source": [
    "#Flagging any article that has TechSupport in its category as 1 and 0 otherwise\n",
    "\n",
    "clean_data['Is_Techsupport'] = clean_data['subreddit'].apply(lambda x: 1 if x == 'techsupport' else 0)"
   ]
  },
  {
   "cell_type": "code",
   "execution_count": null,
   "metadata": {
    "collapsed": true
   },
   "outputs": [],
   "source": [
    "clean_data.head()"
   ]
  },
  {
   "cell_type": "markdown",
   "metadata": {},
   "source": [
    "# Vectorizer"
   ]
  },
  {
   "cell_type": "code",
   "execution_count": null,
   "metadata": {
    "collapsed": true
   },
   "outputs": [],
   "source": [
    "X = clean_data['selftext']\n",
    "vt = CountVectorizer(stop_words='english')\n",
    "X_vt = vt.fit(X)\n",
    "X_vt_transform = X_vt.transform(X)"
   ]
  },
  {
   "cell_type": "code",
   "execution_count": null,
   "metadata": {
    "collapsed": true
   },
   "outputs": [],
   "source": [
    "'''Creating a dataframe using the transformed Values'''\n",
    "x_vt_df = pd.DataFrame(X_vt_transform.todense(), columns=X_vt.get_feature_names(), index=clean_data.index)\n",
    "x_vt_df.head()"
   ]
  },
  {
   "cell_type": "code",
   "execution_count": null,
   "metadata": {
    "collapsed": true
   },
   "outputs": [],
   "source": [
    "# Applying SVD\n",
    "truncatedSVD_200 = TruncatedSVD(n_components=200)\n",
    "truncatedSVD_200.fit(x_vt_df)\n",
    "truncatedSVD_200_transform = truncatedSVD_200.transform(x_vt_df)"
   ]
  },
  {
   "cell_type": "code",
   "execution_count": null,
   "metadata": {
    "collapsed": true
   },
   "outputs": [],
   "source": [
    "#truncatedSVD_200_transform = truncatedSVD_200.transform(x_vt_df)"
   ]
  },
  {
   "cell_type": "code",
   "execution_count": null,
   "metadata": {
    "collapsed": true
   },
   "outputs": [],
   "source": [
    "#Set the Predictors and the Target Variable\n",
    "\n",
    "y = clean_data['Is_Techsupport']\n",
    "X = truncatedSVD_200_transform"
   ]
  },
  {
   "cell_type": "code",
   "execution_count": null,
   "metadata": {
    "collapsed": true
   },
   "outputs": [],
   "source": [
    "\n",
    "X_train, X_test, y_train, y_test = train_test_split(X,y, test_size=0.2)"
   ]
  },
  {
   "cell_type": "markdown",
   "metadata": {},
   "source": [
    "# Logistic Regression"
   ]
  },
  {
   "cell_type": "code",
   "execution_count": null,
   "metadata": {
    "collapsed": true
   },
   "outputs": [],
   "source": [
    "# using Grid Search for HyperParameter tuning \n",
    "\n",
    "from sklearn.linear_model import LogisticRegression\n",
    "\n",
    "lr_params = {\n",
    "    'penalty':['l1','l2'],\n",
    "    'C':np.logspace(-4, 2, 20),\n",
    "    'solver':['liblinear']\n",
    "}\n",
    "\n",
    "logreg_gs = GridSearchCV(LogisticRegression(), lr_params, cv=5, verbose=1, n_jobs=-1)\n",
    "logreg_gs.fit(X_train, y_train)"
   ]
  },
  {
   "cell_type": "code",
   "execution_count": null,
   "metadata": {
    "collapsed": true
   },
   "outputs": [],
   "source": [
    "\n",
    "logreg_gs.best_estimator_\n",
    "logreg_gs.best_params_\n",
    "logreg_gs.best_score_"
   ]
  },
  {
   "cell_type": "code",
   "execution_count": null,
   "metadata": {
    "collapsed": true
   },
   "outputs": [],
   "source": [
    "\n",
    "#logreg_gs.best_params_"
   ]
  },
  {
   "cell_type": "code",
   "execution_count": null,
   "metadata": {
    "collapsed": true
   },
   "outputs": [],
   "source": [
    "\n",
    "#logreg_gs.best_score_"
   ]
  },
  {
   "cell_type": "code",
   "execution_count": null,
   "metadata": {
    "collapsed": true
   },
   "outputs": [],
   "source": [
    "\n",
    "logreg_optimal = LogisticRegression(C=0.5, penalty='l2', solver='liblinear',max_iter=5000, n_jobs = -1)"
   ]
  },
  {
   "cell_type": "code",
   "execution_count": null,
   "metadata": {
    "collapsed": true
   },
   "outputs": [],
   "source": [
    "\n",
    "logreg_optimal.fit(X_train, y_train)\n",
    "print ('Training Score: ', logreg_optimal.score(X_train, y_train))\n",
    "print ('Testing Score: ', logreg_optimal.score(X_test, y_test))"
   ]
  },
  {
   "cell_type": "code",
   "execution_count": null,
   "metadata": {
    "collapsed": true
   },
   "outputs": [],
   "source": [
    "#print ('Training Score: ', logreg_optimal.score(X_train, y_train))"
   ]
  },
  {
   "cell_type": "code",
   "execution_count": null,
   "metadata": {
    "collapsed": true
   },
   "outputs": [],
   "source": [
    "#print ('Testing Score: ', logreg_optimal.score(X_test, y_test))"
   ]
  },
  {
   "cell_type": "code",
   "execution_count": null,
   "metadata": {
    "collapsed": true
   },
   "outputs": [],
   "source": [
    "confusion_matrix(y_train, logreg_optimal.predict(X_train))\n",
    "confusion_matrix(y_test, logreg_optimal.predict(X_test))\n",
    "print (classification_report(y_train, logreg_optimal.predict(X_train)))\n",
    "print (classification_report(y_test, logreg_optimal.predict(X_test)))"
   ]
  },
  {
   "cell_type": "code",
   "execution_count": null,
   "metadata": {
    "collapsed": true
   },
   "outputs": [],
   "source": [
    "\n",
    "#confusion_matrix(y_test, logreg_optimal.predict(X_test))"
   ]
  },
  {
   "cell_type": "code",
   "execution_count": null,
   "metadata": {
    "collapsed": true
   },
   "outputs": [],
   "source": [
    "#print (classification_report(y_train, logreg_optimal.predict(X_train)))"
   ]
  },
  {
   "cell_type": "code",
   "execution_count": null,
   "metadata": {
    "collapsed": true
   },
   "outputs": [],
   "source": [
    "#print (classification_report(y_test, logreg_optimal.predict(X_test)))"
   ]
  },
  {
   "cell_type": "code",
   "execution_count": null,
   "metadata": {
    "collapsed": true
   },
   "outputs": [],
   "source": [
    "#This is a good classifier model with a score of ~0.9 on Train and Test sets. \n",
    "#Plotting the confusion matrix and the classification report also gives a good score of 0.95 on the training and \n",
    "#test sets. However we are going to try some more models like SVM to see \n",
    "#if we can further optimize the model for a better score "
   ]
  },
  {
   "cell_type": "markdown",
   "metadata": {},
   "source": [
    "# Model 4: Support Vector Machines (kernel = Linear)"
   ]
  },
  {
   "cell_type": "markdown",
   "metadata": {},
   "source": [
    "### Linear SVM"
   ]
  },
  {
   "cell_type": "code",
   "execution_count": null,
   "metadata": {
    "collapsed": true
   },
   "outputs": [],
   "source": [
    "'''Instantiating an Linear SVM Model'''\n",
    "from sklearn.svm import SVC\n",
    "svm_linear = svm.SVC(kernel='linear')\n",
    "svm_linear_fit = svm_linear.fit(X_train, y_train)\n",
    "svm_linear_fit\n",
    "svm_linear_fit.score(X_train, y_train)\n",
    "svm_linear_fit.score(X_test, y_test)\n",
    "cr = classification_report(y_train, svm_linear_fit.predict(X_train), digits=2)\n",
    "print (cr)\n",
    "cr = classification_report(y_test, svm_linear_fit.predict(X_test), digits=2)\n",
    "print (cr"
   ]
  },
  {
   "cell_type": "code",
   "execution_count": null,
   "metadata": {
    "collapsed": true
   },
   "outputs": [],
   "source": [
    "'''Fitting the SVM model on the Training set'''\n",
    "# svm_linear_fit = svm_linear.fit(X_train, y_train)\n",
    "# svm_linear_fit"
   ]
  },
  {
   "cell_type": "code",
   "execution_count": null,
   "metadata": {
    "collapsed": true
   },
   "outputs": [],
   "source": [
    "'''Scoring the Model with Training set'''\n",
    "# svm_linear_fit.score(X_train, y_train)"
   ]
  },
  {
   "cell_type": "code",
   "execution_count": null,
   "metadata": {
    "collapsed": true
   },
   "outputs": [],
   "source": [
    "'''Scoring the Model with Test set'''\n",
    "# svm_linear_fit.score(X_test, y_test)"
   ]
  },
  {
   "cell_type": "code",
   "execution_count": null,
   "metadata": {
    "collapsed": true
   },
   "outputs": [],
   "source": [
    "'''Classification Report on the Training Set'''\n",
    "# cr = classification_report(y_train, svm_linear_fit.predict(X_train), digits=2)\n",
    "# print (cr)"
   ]
  },
  {
   "cell_type": "code",
   "execution_count": null,
   "metadata": {
    "collapsed": true
   },
   "outputs": [],
   "source": [
    "'''Clasification report on the Test Set'''\n",
    "# cr = classification_report(y_test, svm_linear_fit.predict(X_test), digits=2)\n",
    "# print (cr)"
   ]
  },
  {
   "cell_type": "markdown",
   "metadata": {},
   "source": [
    "The linear SVM model scores around ~0.95 on the train and the test sets. We shall test the model with other variations of SVM model."
   ]
  },
  {
   "cell_type": "markdown",
   "metadata": {
    "collapsed": true
   },
   "source": [
    "# Model 5: Support Vector Machines (kernel = RBF)"
   ]
  },
  {
   "cell_type": "code",
   "execution_count": null,
   "metadata": {
    "collapsed": true
   },
   "outputs": [],
   "source": [
    "\n",
    "from sklearn.svm import SVC\n",
    "svm_rbf = svm.SVC(kernel='rbf', C=0.5)\n",
    "svm_rbf_fit = svm_rbf.fit(X_train, y_train)\n",
    "svm_rbf_fit\n",
    "svm_rbf_fit.score(X_train, y_train)\n",
    "svm_rbf_fit.score(X_test, y_test)\n",
    "cr = classification_report(y_train, svm_rbf_fit.predict(X_train), digits=2)\n",
    "cr = classification_report(y_test, svm_rbf_fit.predict(X_test), digits=2)\n",
    "print (cr)"
   ]
  },
  {
   "cell_type": "code",
   "execution_count": null,
   "metadata": {
    "collapsed": true
   },
   "outputs": [],
   "source": [
    "\n",
    "# svm_rbf_fit = svm_rbf.fit(X_train, y_train)\n",
    "# svm_rbf_fit"
   ]
  },
  {
   "cell_type": "code",
   "execution_count": null,
   "metadata": {
    "collapsed": true
   },
   "outputs": [],
   "source": [
    "'''Scoring the Model with Training set'''\n",
    "# svm_rbf_fit.score(X_train, y_train)"
   ]
  },
  {
   "cell_type": "code",
   "execution_count": null,
   "metadata": {
    "collapsed": true
   },
   "outputs": [],
   "source": [
    "'''Scoring the Model with Test set'''\n",
    "# svm_rbf_fit.score(X_test, y_test)"
   ]
  },
  {
   "cell_type": "code",
   "execution_count": null,
   "metadata": {
    "collapsed": true
   },
   "outputs": [],
   "source": [
    "'''Classification Report on the Training Set'''\n",
    "# cr = classification_report(y_train, svm_rbf_fit.predict(X_train), digits=2)\n",
    "# print (cr)"
   ]
  },
  {
   "cell_type": "code",
   "execution_count": null,
   "metadata": {
    "collapsed": true
   },
   "outputs": [],
   "source": [
    "'''Clasification report on the Test Set'''\n",
    "# cr = classification_report(y_test, svm_rbf_fit.predict(X_test), digits=2)\n",
    "# print (cr)"
   ]
  },
  {
   "cell_type": "markdown",
   "metadata": {},
   "source": [
    "The overall score with the kernel model is close to the score we got on the Linear SVM model. Overall we see that the classifier models which tries to classify the article as a tech support article versus a non-technical support has a better performance than the regressor models "
   ]
  },
  {
   "cell_type": "code",
   "execution_count": null,
   "metadata": {
    "collapsed": true
   },
   "outputs": [],
   "source": []
  }
 ],
 "metadata": {
  "kernelspec": {
   "display_name": "Python 3",
   "language": "python",
   "name": "python3"
  },
  "language_info": {
   "codemirror_mode": {
    "name": "ipython",
    "version": 3
   },
   "file_extension": ".py",
   "mimetype": "text/x-python",
   "name": "python",
   "nbconvert_exporter": "python",
   "pygments_lexer": "ipython3",
   "version": "3.6.3"
  }
 },
 "nbformat": 4,
 "nbformat_minor": 2
}
